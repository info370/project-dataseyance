{
 "cells": [
  {
   "cell_type": "code",
   "execution_count": 25,
   "metadata": {
    "collapsed": true
   },
   "outputs": [],
   "source": [
    "# Imports\n",
    "import pandas as pd\n",
    "import numpy as np\n",
    "import matplotlib as mpl\n",
    "from matplotlib import pyplot as plt\n",
    "from collections import defaultdict\n",
    "import os"
   ]
  },
  {
   "cell_type": "code",
   "execution_count": 26,
   "metadata": {
    "collapsed": true
   },
   "outputs": [],
   "source": [
    "# Transform into two dimensional table\n",
    "\n",
    "def transform_brackets(income_brackets):\n",
    "    income_brackets = income_brackets.rename(columns={'ZIP\\rcode [1]': 'zip_code', \n",
    "                                                              'Size of adjusted gross income': 'income', \n",
    "                                                              'Number of returns': 'returns'})\n",
    "    # income_brackets2015\n",
    "    \n",
    "\n",
    "    # seattle_zips = [98101, 98102, 98103, 98104, 98105, 98106, 98107, 98108, 98109, 98111, \n",
    "    #                 98112, 98113, 98114, 98115, 98116, 98117, 98118, 98119, 98121, 98122, \n",
    "    #                 98124, 98125, 98126, 98127, 98129, 98131, 98132, 98133, 98134, 98136, \n",
    "    #                 98138, 98139, 98141, 98144, 98145, 98146, 98148, 98151, 98154, 98155, \n",
    "    #                 98158, 98160, 98161, 98164, 98165, 98166, 98168, 98170, 98171, 98174, \n",
    "    #                 98175, 98177, 98178, 98181, 98184, 98185, 98188, 98189, 98190, 98191, \n",
    "    #                 98194, 98195, 98198, 98199, 98110]\n",
    "    seattle_zips = [98101, 98102, 98103, 98104, 98105, 98106, 98107, 98108, 98109, 98112, 98115, \n",
    "             98116, 98117, 98118, 98119, 98121, 98122, 98125, 98126, 98133, 98134, 98136, \n",
    "             98144, 98146, 98154, 98164, 98174, 98177, 98178, 98195, 98199]\n",
    "    seattle_income_brackets = income_brackets[income_brackets[\"zip_code\"].isin(seattle_zips)]\n",
    "    # print(seattle_income_brackets)\n",
    "\n",
    "    # # want \n",
    "    # # zip_code | 1 - 24999 | 25000 ....\n",
    "    # # 99999      number\n",
    "\n",
    "    # LITERAL GARBAGE USER BEWARE\n",
    "    zips = defaultdict(list)\n",
    "    zips_df = d = {'zip_code': [], '1-24999': [], '25000-49999': [], '50000-74999': [], '75000-99999': [], '100000-199999': [], '200000+': [] }\n",
    "    # for index, row in seattle_income_brackets.iterrows():\n",
    "    row_iterator = seattle_income_brackets.iterrows()\n",
    "    for i, row in row_iterator:\n",
    "        if row['income'] is not 'nan':\n",
    "            if row['returns'] == \"**\":\n",
    "                zips[row['zip_code']].append(0)\n",
    "            else:\n",
    "                zips[int(row['zip_code'])].append(row['returns'].replace(',', ''))\n",
    "    for k, v in zips.items():\n",
    "    #     print(k,v)\n",
    "        zips_df['zip_code'].append(k)\n",
    "        zips_df['1-24999'].append(int(v[0]))\n",
    "        zips_df['25000-49999'].append(int(v[1]))\n",
    "        zips_df['50000-74999'].append(int(v[2]))\n",
    "        zips_df['75000-99999'].append(int(v[3]))\n",
    "        zips_df['100000-199999'].append(int(v[4]))\n",
    "        zips_df['200000+'].append(int(v[5]))\n",
    "\n",
    "    df = pd.DataFrame(data=zips_df)\n",
    "    return df\n",
    "    "
   ]
  },
  {
   "cell_type": "code",
   "execution_count": 27,
   "metadata": {},
   "outputs": [
    {
     "data": {
      "text/html": [
       "<div>\n",
       "<style>\n",
       "    .dataframe thead tr:only-child th {\n",
       "        text-align: right;\n",
       "    }\n",
       "\n",
       "    .dataframe thead th {\n",
       "        text-align: left;\n",
       "    }\n",
       "\n",
       "    .dataframe tbody tr th {\n",
       "        vertical-align: top;\n",
       "    }\n",
       "</style>\n",
       "<table border=\"1\" class=\"dataframe\">\n",
       "  <thead>\n",
       "    <tr style=\"text-align: right;\">\n",
       "      <th></th>\n",
       "      <th>1-24999</th>\n",
       "      <th>100000-199999</th>\n",
       "      <th>200000+</th>\n",
       "      <th>25000-49999</th>\n",
       "      <th>50000-74999</th>\n",
       "      <th>75000-99999</th>\n",
       "      <th>zip_code</th>\n",
       "    </tr>\n",
       "  </thead>\n",
       "  <tbody>\n",
       "  </tbody>\n",
       "</table>\n",
       "</div>"
      ],
      "text/plain": [
       "Empty DataFrame\n",
       "Columns: [1-24999, 100000-199999, 200000+, 25000-49999, 50000-74999, 75000-99999, zip_code]\n",
       "Index: []"
      ]
     },
     "execution_count": 27,
     "metadata": {},
     "output_type": "execute_result"
    }
   ],
   "source": [
    "# import glob\n",
    "# dir = os.getcwd()\n",
    "# timeseries_df = []\n",
    "# for file in glob.glob(\"*.csv\"):\n",
    "#     print(file)\n",
    "#     bracket = pd.read_csv(str(file))\n",
    "#     timeseries_df.append(transform_brackets(bracket))\n",
    "    \n",
    "# print(timeseries_df[0])\n",
    "# for filename in os.listdir(path):\n",
    "#     f = os.path.join(dir, filename)\n",
    "#     bracket = pd.read_csv(str(filename))\n",
    "#     timeseries_df.append(transform_brackets(bracket))\n",
    "    \n",
    "income_brackets2011 = pd.read_csv(\"./irs_tax_washington_2011.csv\")\n",
    "# print(list(income_brackets2011))\n",
    "test = transform_brackets(income_brackets2011)\n",
    "test\n",
    "# sum_bracket = df.sum(axis=0)\n",
    "#     sum_bracket = sum_bracket.drop(['zip_code'])\n",
    "#     new_index= ['1-24999', '25000-49999', '50000-74999', '75000-99999','100000-199999', '200000+']\n",
    "#     sum_bracket = sum_bracket.reindex(new_index)\n",
    "#     sum_bracket\n",
    "#     sum_bracket.plot(kind='bar')\n",
    "#     plt.title(\"Income Brackets in Seattle\")\n",
    "#     plt.viridis()\n",
    "#     plt.show()"
   ]
  },
  {
   "cell_type": "code",
   "execution_count": 28,
   "metadata": {},
   "outputs": [
    {
     "ename": "FileNotFoundError",
     "evalue": "File b'./datasets/income_bracket_wa copy_cleaned.csv' does not exist",
     "output_type": "error",
     "traceback": [
      "\u001b[0;31m---------------------------------------------------------------------------\u001b[0m",
      "\u001b[0;31mFileNotFoundError\u001b[0m                         Traceback (most recent call last)",
      "\u001b[0;32m<ipython-input-28-39e6e5779045>\u001b[0m in \u001b[0;36m<module>\u001b[0;34m()\u001b[0m\n\u001b[1;32m      1\u001b[0m \u001b[0;31m# Kyle does some crazy shit.\u001b[0m\u001b[0;34m\u001b[0m\u001b[0;34m\u001b[0m\u001b[0m\n\u001b[0;32m----> 2\u001b[0;31m \u001b[0mincome_brackets2015\u001b[0m \u001b[0;34m=\u001b[0m \u001b[0mpd\u001b[0m\u001b[0;34m.\u001b[0m\u001b[0mread_csv\u001b[0m\u001b[0;34m(\u001b[0m\u001b[0;34m\"./datasets/income_bracket_wa copy_cleaned.csv\"\u001b[0m\u001b[0;34m)\u001b[0m\u001b[0;34m\u001b[0m\u001b[0m\n\u001b[0m\u001b[1;32m      3\u001b[0m income_brackets2015 = income_brackets2015.rename(columns={'ZIP\\rcode [1]': 'zip_code', \n\u001b[1;32m      4\u001b[0m                                                           \u001b[0;34m'Total income'\u001b[0m\u001b[0;34m:\u001b[0m \u001b[0;34m'returns'\u001b[0m\u001b[0;34m,\u001b[0m\u001b[0;34m\u001b[0m\u001b[0m\n\u001b[1;32m      5\u001b[0m                                                           'Unnamed: 18': 'total_income'})\n",
      "\u001b[0;32m/anaconda/envs/python3/lib/python3.6/site-packages/pandas/io/parsers.py\u001b[0m in \u001b[0;36mparser_f\u001b[0;34m(filepath_or_buffer, sep, delimiter, header, names, index_col, usecols, squeeze, prefix, mangle_dupe_cols, dtype, engine, converters, true_values, false_values, skipinitialspace, skiprows, nrows, na_values, keep_default_na, na_filter, verbose, skip_blank_lines, parse_dates, infer_datetime_format, keep_date_col, date_parser, dayfirst, iterator, chunksize, compression, thousands, decimal, lineterminator, quotechar, quoting, escapechar, comment, encoding, dialect, tupleize_cols, error_bad_lines, warn_bad_lines, skipfooter, skip_footer, doublequote, delim_whitespace, as_recarray, compact_ints, use_unsigned, low_memory, buffer_lines, memory_map, float_precision)\u001b[0m\n\u001b[1;32m    653\u001b[0m                     skip_blank_lines=skip_blank_lines)\n\u001b[1;32m    654\u001b[0m \u001b[0;34m\u001b[0m\u001b[0m\n\u001b[0;32m--> 655\u001b[0;31m         \u001b[0;32mreturn\u001b[0m \u001b[0m_read\u001b[0m\u001b[0;34m(\u001b[0m\u001b[0mfilepath_or_buffer\u001b[0m\u001b[0;34m,\u001b[0m \u001b[0mkwds\u001b[0m\u001b[0;34m)\u001b[0m\u001b[0;34m\u001b[0m\u001b[0m\n\u001b[0m\u001b[1;32m    656\u001b[0m \u001b[0;34m\u001b[0m\u001b[0m\n\u001b[1;32m    657\u001b[0m     \u001b[0mparser_f\u001b[0m\u001b[0;34m.\u001b[0m\u001b[0m__name__\u001b[0m \u001b[0;34m=\u001b[0m \u001b[0mname\u001b[0m\u001b[0;34m\u001b[0m\u001b[0m\n",
      "\u001b[0;32m/anaconda/envs/python3/lib/python3.6/site-packages/pandas/io/parsers.py\u001b[0m in \u001b[0;36m_read\u001b[0;34m(filepath_or_buffer, kwds)\u001b[0m\n\u001b[1;32m    403\u001b[0m \u001b[0;34m\u001b[0m\u001b[0m\n\u001b[1;32m    404\u001b[0m     \u001b[0;31m# Create the parser.\u001b[0m\u001b[0;34m\u001b[0m\u001b[0;34m\u001b[0m\u001b[0m\n\u001b[0;32m--> 405\u001b[0;31m     \u001b[0mparser\u001b[0m \u001b[0;34m=\u001b[0m \u001b[0mTextFileReader\u001b[0m\u001b[0;34m(\u001b[0m\u001b[0mfilepath_or_buffer\u001b[0m\u001b[0;34m,\u001b[0m \u001b[0;34m**\u001b[0m\u001b[0mkwds\u001b[0m\u001b[0;34m)\u001b[0m\u001b[0;34m\u001b[0m\u001b[0m\n\u001b[0m\u001b[1;32m    406\u001b[0m \u001b[0;34m\u001b[0m\u001b[0m\n\u001b[1;32m    407\u001b[0m     \u001b[0;32mif\u001b[0m \u001b[0mchunksize\u001b[0m \u001b[0;32mor\u001b[0m \u001b[0miterator\u001b[0m\u001b[0;34m:\u001b[0m\u001b[0;34m\u001b[0m\u001b[0m\n",
      "\u001b[0;32m/anaconda/envs/python3/lib/python3.6/site-packages/pandas/io/parsers.py\u001b[0m in \u001b[0;36m__init__\u001b[0;34m(self, f, engine, **kwds)\u001b[0m\n\u001b[1;32m    760\u001b[0m             \u001b[0mself\u001b[0m\u001b[0;34m.\u001b[0m\u001b[0moptions\u001b[0m\u001b[0;34m[\u001b[0m\u001b[0;34m'has_index_names'\u001b[0m\u001b[0;34m]\u001b[0m \u001b[0;34m=\u001b[0m \u001b[0mkwds\u001b[0m\u001b[0;34m[\u001b[0m\u001b[0;34m'has_index_names'\u001b[0m\u001b[0;34m]\u001b[0m\u001b[0;34m\u001b[0m\u001b[0m\n\u001b[1;32m    761\u001b[0m \u001b[0;34m\u001b[0m\u001b[0m\n\u001b[0;32m--> 762\u001b[0;31m         \u001b[0mself\u001b[0m\u001b[0;34m.\u001b[0m\u001b[0m_make_engine\u001b[0m\u001b[0;34m(\u001b[0m\u001b[0mself\u001b[0m\u001b[0;34m.\u001b[0m\u001b[0mengine\u001b[0m\u001b[0;34m)\u001b[0m\u001b[0;34m\u001b[0m\u001b[0m\n\u001b[0m\u001b[1;32m    763\u001b[0m \u001b[0;34m\u001b[0m\u001b[0m\n\u001b[1;32m    764\u001b[0m     \u001b[0;32mdef\u001b[0m \u001b[0mclose\u001b[0m\u001b[0;34m(\u001b[0m\u001b[0mself\u001b[0m\u001b[0;34m)\u001b[0m\u001b[0;34m:\u001b[0m\u001b[0;34m\u001b[0m\u001b[0m\n",
      "\u001b[0;32m/anaconda/envs/python3/lib/python3.6/site-packages/pandas/io/parsers.py\u001b[0m in \u001b[0;36m_make_engine\u001b[0;34m(self, engine)\u001b[0m\n\u001b[1;32m    964\u001b[0m     \u001b[0;32mdef\u001b[0m \u001b[0m_make_engine\u001b[0m\u001b[0;34m(\u001b[0m\u001b[0mself\u001b[0m\u001b[0;34m,\u001b[0m \u001b[0mengine\u001b[0m\u001b[0;34m=\u001b[0m\u001b[0;34m'c'\u001b[0m\u001b[0;34m)\u001b[0m\u001b[0;34m:\u001b[0m\u001b[0;34m\u001b[0m\u001b[0m\n\u001b[1;32m    965\u001b[0m         \u001b[0;32mif\u001b[0m \u001b[0mengine\u001b[0m \u001b[0;34m==\u001b[0m \u001b[0;34m'c'\u001b[0m\u001b[0;34m:\u001b[0m\u001b[0;34m\u001b[0m\u001b[0m\n\u001b[0;32m--> 966\u001b[0;31m             \u001b[0mself\u001b[0m\u001b[0;34m.\u001b[0m\u001b[0m_engine\u001b[0m \u001b[0;34m=\u001b[0m \u001b[0mCParserWrapper\u001b[0m\u001b[0;34m(\u001b[0m\u001b[0mself\u001b[0m\u001b[0;34m.\u001b[0m\u001b[0mf\u001b[0m\u001b[0;34m,\u001b[0m \u001b[0;34m**\u001b[0m\u001b[0mself\u001b[0m\u001b[0;34m.\u001b[0m\u001b[0moptions\u001b[0m\u001b[0;34m)\u001b[0m\u001b[0;34m\u001b[0m\u001b[0m\n\u001b[0m\u001b[1;32m    967\u001b[0m         \u001b[0;32melse\u001b[0m\u001b[0;34m:\u001b[0m\u001b[0;34m\u001b[0m\u001b[0m\n\u001b[1;32m    968\u001b[0m             \u001b[0;32mif\u001b[0m \u001b[0mengine\u001b[0m \u001b[0;34m==\u001b[0m \u001b[0;34m'python'\u001b[0m\u001b[0;34m:\u001b[0m\u001b[0;34m\u001b[0m\u001b[0m\n",
      "\u001b[0;32m/anaconda/envs/python3/lib/python3.6/site-packages/pandas/io/parsers.py\u001b[0m in \u001b[0;36m__init__\u001b[0;34m(self, src, **kwds)\u001b[0m\n\u001b[1;32m   1580\u001b[0m         \u001b[0mkwds\u001b[0m\u001b[0;34m[\u001b[0m\u001b[0;34m'allow_leading_cols'\u001b[0m\u001b[0;34m]\u001b[0m \u001b[0;34m=\u001b[0m \u001b[0mself\u001b[0m\u001b[0;34m.\u001b[0m\u001b[0mindex_col\u001b[0m \u001b[0;32mis\u001b[0m \u001b[0;32mnot\u001b[0m \u001b[0;32mFalse\u001b[0m\u001b[0;34m\u001b[0m\u001b[0m\n\u001b[1;32m   1581\u001b[0m \u001b[0;34m\u001b[0m\u001b[0m\n\u001b[0;32m-> 1582\u001b[0;31m         \u001b[0mself\u001b[0m\u001b[0;34m.\u001b[0m\u001b[0m_reader\u001b[0m \u001b[0;34m=\u001b[0m \u001b[0mparsers\u001b[0m\u001b[0;34m.\u001b[0m\u001b[0mTextReader\u001b[0m\u001b[0;34m(\u001b[0m\u001b[0msrc\u001b[0m\u001b[0;34m,\u001b[0m \u001b[0;34m**\u001b[0m\u001b[0mkwds\u001b[0m\u001b[0;34m)\u001b[0m\u001b[0;34m\u001b[0m\u001b[0m\n\u001b[0m\u001b[1;32m   1583\u001b[0m \u001b[0;34m\u001b[0m\u001b[0m\n\u001b[1;32m   1584\u001b[0m         \u001b[0;31m# XXX\u001b[0m\u001b[0;34m\u001b[0m\u001b[0;34m\u001b[0m\u001b[0m\n",
      "\u001b[0;32mpandas/_libs/parsers.pyx\u001b[0m in \u001b[0;36mpandas._libs.parsers.TextReader.__cinit__ (pandas/_libs/parsers.c:4209)\u001b[0;34m()\u001b[0m\n",
      "\u001b[0;32mpandas/_libs/parsers.pyx\u001b[0m in \u001b[0;36mpandas._libs.parsers.TextReader._setup_parser_source (pandas/_libs/parsers.c:8873)\u001b[0;34m()\u001b[0m\n",
      "\u001b[0;31mFileNotFoundError\u001b[0m: File b'./datasets/income_bracket_wa copy_cleaned.csv' does not exist"
     ]
    }
   ],
   "source": [
    "# Kyle does some crazy shit.\n",
    "income_brackets2015 = pd.read_csv(\"./datasets/income_bracket_wa copy_cleaned.csv\")\n",
    "income_brackets2015 = income_brackets2015.rename(columns={'ZIP\\rcode [1]': 'zip_code', \n",
    "                                                          'Total income': 'returns', \n",
    "                                                          'Unnamed: 18': 'total_income'})\n",
    "seattle_zips = [98101, 98102, 98103, 98104, 98105, 98106, 98107, 98108, 98109, 98112, 98115, \n",
    "         98116, 98117, 98118, 98119, 98121, 98122, 98125, 98126, 98133, 98134, 98136, \n",
    "         98144, 98146, 98154, 98164, 98174, 98177, 98178, 98195, 98199]\n",
    "seattle_income_brackets = income_brackets2015[income_brackets2015[\"zip_code\"].isin(seattle_zips)]\n",
    "row_iterator = seattle_income_brackets.iterrows()\n",
    "for i, row in row_iterator:\n",
    "    if (i % 8 == 1):\n",
    "        total_income = int(row[\"total_income\"].replace(',', ''))\n",
    "        returns = int(row[\"returns\"].replace(',', ''))\n",
    "        \n",
    "        average_income_per_return = total_income / returns\n",
    "        print(str(row[\"zip_code\"]) + \" has average return of \" + str(average_income_per_return))\n",
    "seattle_income_brackets\n",
    "\n",
    "print(\"kyle is sexy af and his data science skills are passable\")"
   ]
  },
  {
   "cell_type": "code",
   "execution_count": 13,
   "metadata": {},
   "outputs": [
    {
     "data": {
      "text/plain": [
       "1"
      ]
     },
     "execution_count": 13,
     "metadata": {},
     "output_type": "execute_result"
    }
   ],
   "source": []
  }
 ],
 "metadata": {
  "kernelspec": {
   "display_name": "Python 3",
   "language": "python",
   "name": "python3"
  },
  "language_info": {
   "codemirror_mode": {
    "name": "ipython",
    "version": 3
   },
   "file_extension": ".py",
   "mimetype": "text/x-python",
   "name": "python",
   "nbconvert_exporter": "python",
   "pygments_lexer": "ipython3",
   "version": "3.6.1"
  }
 },
 "nbformat": 4,
 "nbformat_minor": 2
}
