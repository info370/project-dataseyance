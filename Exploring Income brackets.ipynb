{
 "cells": [
  {
   "cell_type": "code",
   "execution_count": 112,
   "metadata": {},
   "outputs": [],
   "source": [
    "# Imports\n",
    "import pandas as pd\n",
    "import numpy as np\n",
    "import matplotlib as mpl\n",
    "from matplotlib import pyplot as plt"
   ]
  },
  {
   "cell_type": "code",
   "execution_count": 115,
   "metadata": {},
   "outputs": [
    {
     "name": "stdout",
     "output_type": "stream",
     "text": [
      "['ZIP\\rcode [1]', 'Size of adjusted gross income', 'Number of returns', 'Number of single returns', 'Number of joint returns', 'Number of head of household returns', \"Number with paid preparer's signature\", 'Number of exemptions', 'Number of dependents', 'Number of volunteer prepared returns [2]', 'Unnamed: 10', 'Unnamed: 11', 'Unnamed: 12', 'Number of refund anticipation loan returns', 'Number of refund anticipation check returns', 'Number of elderly returns [3]', 'Adjusted gross income (AGI) [4]', 'Total income', 'Unnamed: 18', 'Salaries and wages in AGI', 'Unnamed: 20', 'Taxable interest', 'Unnamed: 22', 'Ordinary dividends', 'Unnamed: 24', 'Qualified dividends [5]', 'Unnamed: 26', 'State and local income tax refunds\\r', 'Unnamed: 28', 'Business or profession\\rnet income (less loss)', 'Unnamed: 30', 'Net capital gain (less loss) in AGI', 'Unnamed: 32', 'Taxable individual retirement\\rarrangement distributions', 'Unnamed: 34', 'Pensions and annuities in AGI', 'Unnamed: 36', 'Number of \\rfarm returns', 'Unemployment compensation [6]', 'Unnamed: 39', 'Taxable Social Security benefits', 'Unnamed: 41', 'Partnership/S-corp net income (less loss)', 'Unnamed: 43', 'Total statuory adjustments', 'Unnamed: 45', 'Educator expenses', 'Unnamed: 47', 'Self-employment retirement plans', 'Unnamed: 49', 'Self-employment health insurance deduction', 'Unnamed: 51', 'IRA payments', 'Unnamed: 53', 'Student loan interest deduction', 'Unnamed: 55', 'Tuition and fees deduction', 'Unnamed: 57', 'Domestic production activities deduction', 'Unnamed: 59', 'Total itemized deductions', 'Unnamed: 61', 'Unnamed: 62', 'State and local income taxes', 'Unnamed: 64', 'State and local general sales taxes', 'Unnamed: 66', 'Real estate taxes', 'Unnamed: 68', 'Taxes paid', 'Unnamed: 70', 'Mortgage interest paid', 'Unnamed: 72', 'Contributions', 'Unnamed: 74', 'Taxable income', 'Unnamed: 76', 'Income tax before credits', 'Unnamed: 78', 'Alternative minimum tax', 'Unnamed: 80', 'Excess advance premium tax credit repayment', 'Unnamed: 82', 'Total tax credits', 'Unnamed: 84', 'Foreign tax credit', 'Unnamed: 86', 'Child and dependent care credit', 'Unnamed: 88', 'Nonrefundable education credit', 'Unnamed: 90', 'Retirement savings contribution credit', 'Unnamed: 92', 'Child tax credit', 'Unnamed: 94', 'Residential energy tax credit', 'Unnamed: 96', 'Self-employment tax', 'Unnamed: 98', 'Total premium tax credit', 'Unnamed: 100', 'Advance premium tax credit', 'Unnamed: 102', 'Health care individual responsibility payment', 'Unnamed: 104', 'Total tax payments', 'Unnamed: 106', 'Earned income credit [7]', 'Unnamed: 108', 'Excess earned income credit \\r(refundable) [8]', 'Unnamed: 110', 'Additional child tax credit', 'Unnamed: 112', 'Refundable education credit', 'Unnamed: 114', 'Net premium tax credit', 'Unnamed: 116', 'Income tax [9]', 'Unnamed: 118', 'Total tax liability [10]', 'Unnamed: 120', 'Additional Medicare tax', 'Unnamed: 122', 'Net investment income tax', 'Unnamed: 124', 'Tax due at time of filing [11]', 'Unnamed: 126', 'Overpayments refunded [12]', 'Unnamed: 128']\n"
     ]
    }
   ],
   "source": [
    "# Read in data \n",
    "income_brackets2015 = pd.read_csv(\"./datasets/income_bracket_wa copy_cleaned.csv\")\n",
    "print(list(income_brackets2015))\n",
    "# income_brackets2015"
   ]
  },
  {
   "cell_type": "code",
   "execution_count": 117,
   "metadata": {},
   "outputs": [
    {
     "data": {
      "image/png": "[encoded data removed]",
      "text/plain": [
       "<matplotlib.figure.Figure at 0x10c9f3358>"
      ]
     },
     "metadata": {},
     "output_type": "display_data"
    }
   ],
   "source": [
    "# Transform into two dimensional table\n",
    "income_brackets2015 = income_brackets2015.rename(columns={'ZIP\\rcode [1]': 'zip_code', \n",
    "                                                          'Size of adjusted gross income': 'income', \n",
    "                                                          'Number of returns': 'returns'})\n",
    "# income_brackets2015\n",
    "\n",
    "\n",
    "# seattle_zips = [98101, 98102, 98103, 98104, 98105, 98106, 98107, 98108, 98109, 98111, \n",
    "#                 98112, 98113, 98114, 98115, 98116, 98117, 98118, 98119, 98121, 98122, \n",
    "#                 98124, 98125, 98126, 98127, 98129, 98131, 98132, 98133, 98134, 98136, \n",
    "#                 98138, 98139, 98141, 98144, 98145, 98146, 98148, 98151, 98154, 98155, \n",
    "#                 98158, 98160, 98161, 98164, 98165, 98166, 98168, 98170, 98171, 98174, \n",
    "#                 98175, 98177, 98178, 98181, 98184, 98185, 98188, 98189, 98190, 98191, \n",
    "#                 98194, 98195, 98198, 98199, 98110]\n",
    "seattle_zips = [98101, 98102, 98103, 98104, 98105, 98106, 98107, 98108, 98109, 98112, 98115, \n",
    "         98116, 98117, 98118, 98119, 98121, 98122, 98125, 98126, 98133, 98134, 98136, \n",
    "         98144, 98146, 98154, 98164, 98174, 98177, 98178, 98195, 98199]\n",
    "seattle_income_brackets = income_brackets2015[income_brackets2015[\"zip_code\"].isin(seattle_zips)]\n",
    "# print(seattle_income_brackets)\n",
    "\n",
    "# # want \n",
    "# # zip_code | 1 - 24999 | 25000 ....\n",
    "# # 99999      number\n",
    "\n",
    "# LITERAL GARBAGE USER BEWARE\n",
    "from collections import defaultdict\n",
    "import math\n",
    "zips = defaultdict(list)\n",
    "zips_df = d = {'zip_code': [], '1-24999': [], '25000-49999': [], '50000-74999': [], '75000-99999': [], '100000-199999': [], '200000+': [] }\n",
    "# for index, row in seattle_income_brackets.iterrows():\n",
    "row_iterator = seattle_income_brackets.iterrows()\n",
    "for i, row in row_iterator:\n",
    "    if row['income'] is not 'nan':\n",
    "        if row['returns'] == \"**\":\n",
    "            zips[row['zip_code']].append(0)\n",
    "        else:\n",
    "            zips[int(row['zip_code'])].append(row['returns'].replace(',', ''))\n",
    "for k, v in zips.items():\n",
    "#     print(k,v)\n",
    "    zips_df['zip_code'].append(k)\n",
    "    zips_df['1-24999'].append(int(v[0]))\n",
    "    zips_df['25000-49999'].append(int(v[1]))\n",
    "    zips_df['50000-74999'].append(int(v[2]))\n",
    "    zips_df['75000-99999'].append(int(v[3]))\n",
    "    zips_df['100000-199999'].append(int(v[4]))\n",
    "    zips_df['200000+'].append(int(v[5]))\n",
    "    \n",
    "df = pd.DataFrame(data=zips_df)\n",
    "sum_bracket = df.sum(axis=0)\n",
    "sum_bracket = sum_bracket.drop(['zip_code'])\n",
    "new_index= ['1-24999', '25000-49999', '50000-74999', '75000-99999','100000-199999', '200000+']\n",
    "sum_bracket = sum_bracket.reindex(new_index)\n",
    "# sum_bracket\n",
    "sum_bracket.plot(kind='bar')\n",
    "plt.title(\"Income Brackets in Seattle\")\n",
    "plt.show()\n",
    "    "
   ]
  },
  {
   "cell_type": "code",
   "execution_count": null,
   "metadata": {},
   "outputs": [],
   "source": []
  },
  {
   "cell_type": "code",
   "execution_count": null,
   "metadata": {},
   "outputs": [],
   "source": []
  },
  {
   "cell_type": "code",
   "execution_count": null,
   "metadata": {},
   "outputs": [],
   "source": []
  },
  {
   "cell_type": "code",
   "execution_count": null,
   "metadata": {},
   "outputs": [],
   "source": []
  },
  {
   "cell_type": "code",
   "execution_count": null,
   "metadata": {},
   "outputs": [],
   "source": []
  },
  {
   "cell_type": "code",
   "execution_count": null,
   "metadata": {},
   "outputs": [],
   "source": []
  }
 ],
 "metadata": {
  "kernelspec": {
   "display_name": "Python 3",
   "language": "python",
   "name": "python3"
  },
  "language_info": {
   "codemirror_mode": {
    "name": "ipython",
    "version": 3
   },
   "file_extension": ".py",
   "mimetype": "text/x-python",
   "name": "python",
   "nbconvert_exporter": "python",
   "pygments_lexer": "ipython3",
   "version": "3.6.3"
  }
 },
 "nbformat": 4,
 "nbformat_minor": 2
}
