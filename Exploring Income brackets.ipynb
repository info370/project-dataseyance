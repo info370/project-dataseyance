{
 "cells": [
  {
   "cell_type": "code",
   "execution_count": 1,
   "metadata": {
    "collapsed": true
   },
   "outputs": [],
   "source": [
    "# Imports\n",
    "import pandas as pd\n",
    "import numpy as np\n",
    "import matplotlib as mpl"
   ]
  },
  {
   "cell_type": "code",
   "execution_count": 5,
   "metadata": {},
   "outputs": [
    {
     "name": "stdout",
     "output_type": "stream",
     "text": [
      "['ZIP\\rcode [1]', 'Size of adjusted gross income', 'Number of returns', 'Number of single returns', 'Number of joint returns', 'Number of head of household returns', \"Number with paid preparer's signature\", 'Number of exemptions', 'Number of dependents', 'Number of volunteer prepared returns [2]', 'Unnamed: 10', 'Unnamed: 11', 'Unnamed: 12', 'Number of refund anticipation loan returns', 'Number of refund anticipation check returns', 'Number of elderly returns [3]', 'Adjusted gross income (AGI) [4]', 'Total income', 'Unnamed: 18', 'Salaries and wages in AGI', 'Unnamed: 20', 'Taxable interest', 'Unnamed: 22', 'Ordinary dividends', 'Unnamed: 24', 'Qualified dividends [5]', 'Unnamed: 26', 'State and local income tax refunds\\r', 'Unnamed: 28', 'Business or profession\\rnet income (less loss)', 'Unnamed: 30', 'Net capital gain (less loss) in AGI', 'Unnamed: 32', 'Taxable individual retirement\\rarrangement distributions', 'Unnamed: 34', 'Pensions and annuities in AGI', 'Unnamed: 36', 'Number of \\rfarm returns', 'Unemployment compensation [6]', 'Unnamed: 39', 'Taxable Social Security benefits', 'Unnamed: 41', 'Partnership/S-corp net income (less loss)', 'Unnamed: 43', 'Total statuory adjustments', 'Unnamed: 45', 'Educator expenses', 'Unnamed: 47', 'Self-employment retirement plans', 'Unnamed: 49', 'Self-employment health insurance deduction', 'Unnamed: 51', 'IRA payments', 'Unnamed: 53', 'Student loan interest deduction', 'Unnamed: 55', 'Tuition and fees deduction', 'Unnamed: 57', 'Domestic production activities deduction', 'Unnamed: 59', 'Total itemized deductions', 'Unnamed: 61', 'Unnamed: 62', 'State and local income taxes', 'Unnamed: 64', 'State and local general sales taxes', 'Unnamed: 66', 'Real estate taxes', 'Unnamed: 68', 'Taxes paid', 'Unnamed: 70', 'Mortgage interest paid', 'Unnamed: 72', 'Contributions', 'Unnamed: 74', 'Taxable income', 'Unnamed: 76', 'Income tax before credits', 'Unnamed: 78', 'Alternative minimum tax', 'Unnamed: 80', 'Excess advance premium tax credit repayment', 'Unnamed: 82', 'Total tax credits', 'Unnamed: 84', 'Foreign tax credit', 'Unnamed: 86', 'Child and dependent care credit', 'Unnamed: 88', 'Nonrefundable education credit', 'Unnamed: 90', 'Retirement savings contribution credit', 'Unnamed: 92', 'Child tax credit', 'Unnamed: 94', 'Residential energy tax credit', 'Unnamed: 96', 'Self-employment tax', 'Unnamed: 98', 'Total premium tax credit', 'Unnamed: 100', 'Advance premium tax credit', 'Unnamed: 102', 'Health care individual responsibility payment', 'Unnamed: 104', 'Total tax payments', 'Unnamed: 106', 'Earned income credit [7]', 'Unnamed: 108', 'Excess earned income credit \\r(refundable) [8]', 'Unnamed: 110', 'Additional child tax credit', 'Unnamed: 112', 'Refundable education credit', 'Unnamed: 114', 'Net premium tax credit', 'Unnamed: 116', 'Income tax [9]', 'Unnamed: 118', 'Total tax liability [10]', 'Unnamed: 120', 'Additional Medicare tax', 'Unnamed: 122', 'Net investment income tax', 'Unnamed: 124', 'Tax due at time of filing [11]', 'Unnamed: 126', 'Overpayments refunded [12]', 'Unnamed: 128']\n"
     ]
    }
   ],
   "source": [
    "# Read in data \n",
    "income_brackets = pd.read_csv(\"./datasets/income_bracket_wa copy_cleaned.csv\")\n",
    "print(list(income_brackets))"
   ]
  },
  {
   "cell_type": "code",
   "execution_count": null,
   "metadata": {
    "collapsed": true
   },
   "outputs": [],
   "source": [
    "# Transform into two dimensional table\n"
   ]
  }
 ],
 "metadata": {
  "kernelspec": {
   "display_name": "Python 3",
   "language": "python",
   "name": "python3"
  },
  "language_info": {
   "codemirror_mode": {
    "name": "ipython",
    "version": 3
   },
   "file_extension": ".py",
   "mimetype": "text/x-python",
   "name": "python",
   "nbconvert_exporter": "python",
   "pygments_lexer": "ipython3",
   "version": "3.6.2"
  }
 },
 "nbformat": 4,
 "nbformat_minor": 2
}
