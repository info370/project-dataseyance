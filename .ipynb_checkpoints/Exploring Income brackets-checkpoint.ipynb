{
 "cells": [
  {
   "cell_type": "code",
   "execution_count": 133,
   "metadata": {},
   "outputs": [],
   "source": [
    "# Imports\n",
    "import pandas as pd\n",
    "import numpy as np\n",
    "import matplotlib as mpl\n",
    "from matplotlib import pyplot as plt\n",
    "from collections import defaultdict\n",
    "import os"
   ]
  },
  {
   "cell_type": "code",
   "execution_count": 134,
   "metadata": {},
   "outputs": [],
   "source": [
    "# Transform into two dimensional table\n",
    "\n",
    "def transform_brackets(income_brackets):\n",
    "    income_brackets = income_brackets.rename(columns={'ZIP\\rcode [1]': 'zip_code', \n",
    "                                                              'Size of adjusted gross income': 'income', \n",
    "                                                              'Number of returns': 'returns'})\n",
    "    # income_brackets2015\n",
    "\n",
    "\n",
    "    # seattle_zips = [98101, 98102, 98103, 98104, 98105, 98106, 98107, 98108, 98109, 98111, \n",
    "    #                 98112, 98113, 98114, 98115, 98116, 98117, 98118, 98119, 98121, 98122, \n",
    "    #                 98124, 98125, 98126, 98127, 98129, 98131, 98132, 98133, 98134, 98136, \n",
    "    #                 98138, 98139, 98141, 98144, 98145, 98146, 98148, 98151, 98154, 98155, \n",
    "    #                 98158, 98160, 98161, 98164, 98165, 98166, 98168, 98170, 98171, 98174, \n",
    "    #                 98175, 98177, 98178, 98181, 98184, 98185, 98188, 98189, 98190, 98191, \n",
    "    #                 98194, 98195, 98198, 98199, 98110]\n",
    "    seattle_zips = [98101, 98102, 98103, 98104, 98105, 98106, 98107, 98108, 98109, 98112, 98115, \n",
    "             98116, 98117, 98118, 98119, 98121, 98122, 98125, 98126, 98133, 98134, 98136, \n",
    "             98144, 98146, 98154, 98164, 98174, 98177, 98178, 98195, 98199]\n",
    "    seattle_income_brackets = income_brackets[income_brackets[\"zip_code\"].isin(seattle_zips)]\n",
    "    # print(seattle_income_brackets)\n",
    "\n",
    "    # # want \n",
    "    # # zip_code | 1 - 24999 | 25000 ....\n",
    "    # # 99999      number\n",
    "\n",
    "    # LITERAL GARBAGE USER BEWARE\n",
    "    zips = defaultdict(list)\n",
    "    zips_df = d = {'zip_code': [], '1-24999': [], '25000-49999': [], '50000-74999': [], '75000-99999': [], '100000-199999': [], '200000+': [] }\n",
    "    # for index, row in seattle_income_brackets.iterrows():\n",
    "    row_iterator = seattle_income_brackets.iterrows()\n",
    "    for i, row in row_iterator:\n",
    "        if row['income'] is not 'nan':\n",
    "            if row['returns'] == \"**\":\n",
    "                zips[row['zip_code']].append(0)\n",
    "            else:\n",
    "                zips[int(row['zip_code'])].append(row['returns'].replace(',', ''))\n",
    "    for k, v in zips.items():\n",
    "    #     print(k,v)\n",
    "        zips_df['zip_code'].append(k)\n",
    "        zips_df['1-24999'].append(int(v[0]))\n",
    "        zips_df['25000-49999'].append(int(v[1]))\n",
    "        zips_df['50000-74999'].append(int(v[2]))\n",
    "        zips_df['75000-99999'].append(int(v[3]))\n",
    "        zips_df['100000-199999'].append(int(v[4]))\n",
    "        zips_df['200000+'].append(int(v[5]))\n",
    "\n",
    "    df = pd.DataFrame(data=zips_df)\n",
    "    return df\n",
    "    "
   ]
  },
  {
   "cell_type": "code",
   "execution_count": 157,
   "metadata": {},
   "outputs": [
    {
     "data": {
      "text/html": [
       "<div>\n",
       "<style scoped>\n",
       "    .dataframe tbody tr th:only-of-type {\n",
       "        vertical-align: middle;\n",
       "    }\n",
       "\n",
       "    .dataframe tbody tr th {\n",
       "        vertical-align: top;\n",
       "    }\n",
       "\n",
       "    .dataframe thead th {\n",
       "        text-align: right;\n",
       "    }\n",
       "</style>\n",
       "<table border=\"1\" class=\"dataframe\">\n",
       "  <thead>\n",
       "    <tr style=\"text-align: right;\">\n",
       "      <th></th>\n",
       "      <th>1-24999</th>\n",
       "      <th>100000-199999</th>\n",
       "      <th>200000+</th>\n",
       "      <th>25000-49999</th>\n",
       "      <th>50000-74999</th>\n",
       "      <th>75000-99999</th>\n",
       "      <th>zip_code</th>\n",
       "    </tr>\n",
       "  </thead>\n",
       "  <tbody>\n",
       "  </tbody>\n",
       "</table>\n",
       "</div>"
      ],
      "text/plain": [
       "Empty DataFrame\n",
       "Columns: [1-24999, 100000-199999, 200000+, 25000-49999, 50000-74999, 75000-99999, zip_code]\n",
       "Index: []"
      ]
     },
     "execution_count": 157,
     "metadata": {},
     "output_type": "execute_result"
    }
   ],
   "source": [
    "# import glob\n",
    "# dir = os.getcwd()\n",
    "# timeseries_df = []\n",
    "# for file in glob.glob(\"*.csv\"):\n",
    "#     print(file)\n",
    "#     bracket = pd.read_csv(str(file))\n",
    "#     timeseries_df.append(transform_brackets(bracket))\n",
    "    \n",
    "# print(timeseries_df[0])\n",
    "# for filename in os.listdir(path):\n",
    "#     f = os.path.join(dir, filename)\n",
    "#     bracket = pd.read_csv(str(filename))\n",
    "#     timeseries_df.append(transform_brackets(bracket))\n",
    "    \n",
    "income_brackets2011 = pd.read_csv(\"./irs_tax_washington_2011.csv\")\n",
    "# print(list(income_brackets2011))\n",
    "test = transform_brackets(income_brackets2011)\n",
    "test\n",
    "# sum_bracket = df.sum(axis=0)\n",
    "#     sum_bracket = sum_bracket.drop(['zip_code'])\n",
    "#     new_index= ['1-24999', '25000-49999', '50000-74999', '75000-99999','100000-199999', '200000+']\n",
    "#     sum_bracket = sum_bracket.reindex(new_index)\n",
    "#     sum_bracket\n",
    "#     sum_bracket.plot(kind='bar')\n",
    "#     plt.title(\"Income Brackets in Seattle\")\n",
    "#     plt.viridis()\n",
    "#     plt.show()"
   ]
  },
  {
   "cell_type": "code",
   "execution_count": null,
   "metadata": {},
   "outputs": [],
   "source": []
  }
 ],
 "metadata": {
  "kernelspec": {
   "display_name": "Python 3",
   "language": "python",
   "name": "python3"
  },
  "language_info": {
   "codemirror_mode": {
    "name": "ipython",
    "version": 3
   },
   "file_extension": ".py",
   "mimetype": "text/x-python",
   "name": "python",
   "nbconvert_exporter": "python",
   "pygments_lexer": "ipython3",
   "version": "3.6.3"
  }
 },
 "nbformat": 4,
 "nbformat_minor": 2
}
