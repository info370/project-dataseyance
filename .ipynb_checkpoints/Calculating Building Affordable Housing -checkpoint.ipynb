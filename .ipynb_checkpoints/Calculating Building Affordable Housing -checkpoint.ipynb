{
 "cells": [
  {
   "cell_type": "code",
   "execution_count": 45,
   "metadata": {},
   "outputs": [],
   "source": [
    "import pandas as pd\n",
    "import numpy as np\n",
    "\n",
    "import locale\n",
    "from locale import atoi"
   ]
  },
  {
   "cell_type": "code",
   "execution_count": 46,
   "metadata": {},
   "outputs": [
    {
     "data": {
      "text/plain": [
       "['Jur Dept',\n",
       " 'Jurisdictional Dept',\n",
       " 'PMA NUM',\n",
       " 'PMA Name',\n",
       " 'PMA Location Address',\n",
       " ' PMA Land SqFt ',\n",
       " 'PMA Classification',\n",
       " 'Permit Type',\n",
       " 'Extra Environmental Information',\n",
       " 'PMA Current Use',\n",
       " 'PMA Future Use If Any',\n",
       " 'City Ownership',\n",
       " 'Category',\n",
       " 'Comment']"
      ]
     },
     "execution_count": 46,
     "metadata": {},
     "output_type": "execute_result"
    }
   ],
   "source": [
    "# Read in data \n",
    "property_inventory = pd.read_csv(\"./datasets/property_inventory_2017_csv.csv\")\n",
    "list(property_inventory)"
   ]
  },
  {
   "cell_type": "code",
   "execution_count": 47,
   "metadata": {},
   "outputs": [],
   "source": [
    "# Cleaning up\n",
    "\n",
    "# Converting from Strings to numbers\n",
    "# Removing commas \n",
    "# Converting dashes to zeroes\n",
    "locale.setlocale(locale.LC_NUMERIC, '')\n",
    "\n",
    "def toNumber(n):\n",
    "    try:\n",
    "        return atoi(n)\n",
    "    except:\n",
    "        # print(\"Didn't work with \" + n)\n",
    "        return 0\n",
    "    \n",
    "property_inventory[' PMA Land SqFt '] = property_inventory[' PMA Land SqFt '].map(toNumber)"
   ]
  },
  {
   "cell_type": "code",
   "execution_count": 62,
   "metadata": {},
   "outputs": [],
   "source": [
    "# property_inventory\n",
    "\n",
    "for index, row in property_inventory.iterrows():\n",
    "#     print(\"#\" + str(row['Permit Type']).strip() + \"#\")\n",
    "    if str(row['Permit Type']).strip() == 'Commercial2-65':\n",
    "        print(row['Permit Type'])\n",
    "\n",
    "# sf = property_inventory.loc[property_inventory['Permit Type'] == \"Lowrise 1\"]\n",
    "# sf\n",
    "\n",
    "        \n",
    "#property_inventory['Permit Type']"
   ]
  },
  {
   "cell_type": "code",
   "execution_count": null,
   "metadata": {},
   "outputs": [],
   "source": []
  }
 ],
 "metadata": {
  "kernelspec": {
   "display_name": "Python 3",
   "language": "python",
   "name": "python3"
  },
  "language_info": {
   "codemirror_mode": {
    "name": "ipython",
    "version": 3
   },
   "file_extension": ".py",
   "mimetype": "text/x-python",
   "name": "python",
   "nbconvert_exporter": "python",
   "pygments_lexer": "ipython3",
   "version": "3.6.3"
  }
 },
 "nbformat": 4,
 "nbformat_minor": 2
}
