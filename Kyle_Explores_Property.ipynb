{
 "cells": [
  {
   "cell_type": "code",
   "execution_count": 1,
   "metadata": {
    "collapsed": true
   },
   "outputs": [],
   "source": [
    "# Imports\n",
    "import pandas as pd\n",
    "import numpy as np\n",
    "import matplotlib as mpl\n",
    "from matplotlib import pyplot as plt"
   ]
  },
  {
   "cell_type": "code",
   "execution_count": 2,
   "metadata": {},
   "outputs": [
    {
     "name": "stdout",
     "output_type": "stream",
     "text": [
      "['ZIP\\rcode [1]', 'Size of adjusted gross income', 'Number of returns', 'Number of single returns', 'Number of joint returns', 'Number of head of household returns', \"Number with paid preparer's signature\", 'Number of exemptions', 'Number of dependents', 'Number of volunteer prepared returns [2]', 'Unnamed: 10', 'Unnamed: 11', 'Unnamed: 12', 'Number of refund anticipation loan returns', 'Number of refund anticipation check returns', 'Number of elderly returns [3]', 'Adjusted gross income (AGI) [4]', 'Total income', 'Unnamed: 18', 'Salaries and wages in AGI', 'Unnamed: 20', 'Taxable interest', 'Unnamed: 22', 'Ordinary dividends', 'Unnamed: 24', 'Qualified dividends [5]', 'Unnamed: 26', 'State and local income tax refunds\\r', 'Unnamed: 28', 'Business or profession\\rnet income (less loss)', 'Unnamed: 30', 'Net capital gain (less loss) in AGI', 'Unnamed: 32', 'Taxable individual retirement\\rarrangement distributions', 'Unnamed: 34', 'Pensions and annuities in AGI', 'Unnamed: 36', 'Number of \\rfarm returns', 'Unemployment compensation [6]', 'Unnamed: 39', 'Taxable Social Security benefits', 'Unnamed: 41', 'Partnership/S-corp net income (less loss)', 'Unnamed: 43', 'Total statuory adjustments', 'Unnamed: 45', 'Educator expenses', 'Unnamed: 47', 'Self-employment retirement plans', 'Unnamed: 49', 'Self-employment health insurance deduction', 'Unnamed: 51', 'IRA payments', 'Unnamed: 53', 'Student loan interest deduction', 'Unnamed: 55', 'Tuition and fees deduction', 'Unnamed: 57', 'Domestic production activities deduction', 'Unnamed: 59', 'Total itemized deductions', 'Unnamed: 61', 'Unnamed: 62', 'State and local income taxes', 'Unnamed: 64', 'State and local general sales taxes', 'Unnamed: 66', 'Real estate taxes', 'Unnamed: 68', 'Taxes paid', 'Unnamed: 70', 'Mortgage interest paid', 'Unnamed: 72', 'Contributions', 'Unnamed: 74', 'Taxable income', 'Unnamed: 76', 'Income tax before credits', 'Unnamed: 78', 'Alternative minimum tax', 'Unnamed: 80', 'Excess advance premium tax credit repayment', 'Unnamed: 82', 'Total tax credits', 'Unnamed: 84', 'Foreign tax credit', 'Unnamed: 86', 'Child and dependent care credit', 'Unnamed: 88', 'Nonrefundable education credit', 'Unnamed: 90', 'Retirement savings contribution credit', 'Unnamed: 92', 'Child tax credit', 'Unnamed: 94', 'Residential energy tax credit', 'Unnamed: 96', 'Self-employment tax', 'Unnamed: 98', 'Total premium tax credit', 'Unnamed: 100', 'Advance premium tax credit', 'Unnamed: 102', 'Health care individual responsibility payment', 'Unnamed: 104', 'Total tax payments', 'Unnamed: 106', 'Earned income credit [7]', 'Unnamed: 108', 'Excess earned income credit \\r(refundable) [8]', 'Unnamed: 110', 'Additional child tax credit', 'Unnamed: 112', 'Refundable education credit', 'Unnamed: 114', 'Net premium tax credit', 'Unnamed: 116', 'Income tax [9]', 'Unnamed: 118', 'Total tax liability [10]', 'Unnamed: 120', 'Additional Medicare tax', 'Unnamed: 122', 'Net investment income tax', 'Unnamed: 124', 'Tax due at time of filing [11]', 'Unnamed: 126', 'Overpayments refunded [12]', 'Unnamed: 128']\n"
     ]
    }
   ],
   "source": [
    "# Read in data \n",
    "income_brackets2015 = pd.read_csv(\"./datasets/income_bracket_wa copy_cleaned.csv\")\n",
    "print(list(income_brackets2015))\n",
    "# income_brackets2015"
   ]
  },
  {
   "cell_type": "code",
   "execution_count": 12,
   "metadata": {},
   "outputs": [
    {
     "name": "stdout",
     "output_type": "stream",
     "text": [
      "98101.0 has average return of 182\n",
      "98102.0 has average return of 118\n",
      "98103.0 has average return of 99\n",
      "98104.0 has average return of 110\n",
      "98105.0 has average return of 154\n",
      "98106.0 has average return of 57\n",
      "98107.0 has average return of 92\n",
      "98108.0 has average return of 54\n",
      "98109.0 has average return of 128\n",
      "98112.0 has average return of 249\n",
      "98115.0 has average return of 120\n",
      "98116.0 has average return of 114\n",
      "98117.0 has average return of 112\n",
      "98118.0 has average return of 64\n",
      "98119.0 has average return of 132\n",
      "98121.0 has average return of 163\n",
      "98122.0 has average return of 90\n",
      "98125.0 has average return of 72\n",
      "98126.0 has average return of 83\n",
      "98133.0 has average return of 62\n",
      "98134.0 has average return of 181\n",
      "98136.0 has average return of 121\n",
      "98144.0 has average return of 90\n",
      "98146.0 has average return of 64\n",
      "98164.0 has average return of 207\n",
      "98177.0 has average return of 147\n",
      "98178.0 has average return of 56\n",
      "98199.0 has average return of 161\n",
      "kyle is sexy af and his data science skills are passable\n"
     ]
    }
   ],
   "source": [
    "# Kyle does some crazy shit.\n",
    "income_brackets2015 = pd.read_csv(\"./datasets/income_bracket_wa copy_cleaned.csv\")\n",
    "income_brackets2015 = income_brackets2015.rename(columns={'ZIP\\rcode [1]': 'zip_code', \n",
    "                                                          'Total income': 'returns', \n",
    "                                                          'Unnamed: 18': 'total_income'})\n",
    "seattle_zips = [98101, 98102, 98103, 98104, 98105, 98106, 98107, 98108, 98109, 98112, 98115, \n",
    "         98116, 98117, 98118, 98119, 98121, 98122, 98125, 98126, 98133, 98134, 98136, \n",
    "         98144, 98146, 98154, 98164, 98174, 98177, 98178, 98195, 98199]\n",
    "seattle_income_brackets = income_brackets2015[income_brackets2015[\"zip_code\"].isin(seattle_zips)]\n",
    "row_iterator = seattle_income_brackets.iterrows()\n",
    "for i, row in row_iterator:\n",
    "    if (i % 8 == 1):\n",
    "        total_income = int(row[\"total_income\"].replace(',', ''))\n",
    "        returns = int(row[\"returns\"].replace(',', ''))\n",
    "        \n",
    "        average_income_per_return = total_income / returns\n",
    "        print(str(row[\"zip_code\"]) + \" has average return of \" + str(average_income_per_return))\n",
    "seattle_income_brackets\n",
    "\n",
    "print(\"kyle is sexy af and his data science skills are passable\")"
   ]
  },
  {
   "cell_type": "code",
   "execution_count": 43,
   "metadata": {},
   "outputs": [
    {
     "name": "stdout",
     "output_type": "stream",
     "text": [
      "['ZIP\\rcode [1]', 'Size of adjusted gross income', 'Number of returns', 'Number of single returns', 'Number of joint returns', 'Number of head of household returns', \"Number with paid preparer's signature\", 'Number of exemptions', 'Number of dependents', 'Number of volunteer prepared returns [2]', 'Unnamed: 10', 'Unnamed: 11', 'Unnamed: 12', 'Number of refund anticipation loan returns', 'Number of refund anticipation check returns', 'Number of elderly returns [3]', 'Adjusted gross income (AGI) [4]', 'total_income_ returns', 'total_income_amount', 'Salaries and wages in AGI', 'Unnamed: 20', 'Taxable interest', 'Unnamed: 22', 'Ordinary dividends', 'Unnamed: 24', 'Qualified dividends [5]', 'Unnamed: 26', 'State and local income tax refunds\\r', 'Unnamed: 28', 'Business or profession\\rnet income (less loss)', 'Unnamed: 30', 'Net capital gain (less loss) in AGI', 'Unnamed: 32', 'Taxable individual retirement\\rarrangement distributions', 'Unnamed: 34', 'Pensions and annuities in AGI', 'Unnamed: 36', 'Number of \\rfarm returns', 'Unemployment compensation [6]', 'Unnamed: 39', 'Taxable Social Security benefits', 'Unnamed: 41', 'Partnership/S-corp net income (less loss)', 'Unnamed: 43', 'Total statuory adjustments', 'Unnamed: 45', 'Educator expenses', 'Unnamed: 47', 'Self-employment retirement plans', 'Unnamed: 49', 'Self-employment health insurance deduction', 'Unnamed: 51', 'IRA payments', 'Unnamed: 53', 'Student loan interest deduction', 'Unnamed: 55', 'Tuition and fees deduction', 'Unnamed: 57', 'Domestic production activities deduction', 'Unnamed: 59', 'Total itemized deductions', 'Unnamed: 61', 'Unnamed: 62', 'State and local income taxes', 'Unnamed: 64', 'State and local general sales taxes', 'Unnamed: 66', 'Real estate taxes', 'Unnamed: 68', 'Taxes paid', 'Unnamed: 70', 'Mortgage interest paid', 'Unnamed: 72', 'Contributions', 'Unnamed: 74', 'Taxable income', 'Unnamed: 76', 'Income tax before credits', 'Unnamed: 78', 'Alternative minimum tax', 'Unnamed: 80', 'Excess advance premium tax credit repayment', 'Unnamed: 82', 'Total tax credits', 'Unnamed: 84', 'Foreign tax credit', 'Unnamed: 86', 'Child and dependent care credit', 'Unnamed: 88', 'Nonrefundable education credit', 'Unnamed: 90', 'Retirement savings contribution credit', 'Unnamed: 92', 'Child tax credit', 'Unnamed: 94', 'Residential energy tax credit', 'Unnamed: 96', 'Self-employment tax', 'Unnamed: 98', 'Total premium tax credit', 'Unnamed: 100', 'Advance premium tax credit', 'Unnamed: 102', 'Health care individual responsibility payment', 'Unnamed: 104', 'Total tax payments', 'Unnamed: 106', 'Earned income credit [7]', 'Unnamed: 108', 'Excess earned income credit \\r(refundable) [8]', 'Unnamed: 110', 'Additional child tax credit', 'Unnamed: 112', 'Refundable education credit', 'Unnamed: 114', 'Net premium tax credit', 'Unnamed: 116', 'Income tax [9]', 'Unnamed: 118', 'Total tax liability [10]', 'Unnamed: 120', 'Additional Medicare tax', 'Unnamed: 122', 'Net investment income tax', 'Unnamed: 124', 'Tax due at time of filing [11]', 'Unnamed: 126', 'Overpayments refunded [12]', 'Unnamed: 128']\n"
     ]
    }
   ],
   "source": [
    "# crazy shit part2.\n",
    "irs_tax_2015 = pd.read_csv(\"./datasets/tax_bracket_time_series/cleaned_irs_tax_files/irs_tax_washington_2015_cleaned.csv\")\n",
    "print(list(irs_tax_2015))\n",
    "\n",
    "\n"
   ]
  },
  {
   "cell_type": "code",
   "execution_count": 50,
   "metadata": {},
   "outputs": [
    {
     "name": "stdout",
     "output_type": "stream",
     "text": [
      "Row Number: 424, Zip code: 98101 has average return of 182\n",
      "Row Number: 432, Zip code: 98102 has average return of 118\n",
      "Row Number: 440, Zip code: 98103 has average return of 99\n",
      "Row Number: 448, Zip code: 98104 has average return of 110\n",
      "Row Number: 456, Zip code: 98105 has average return of 154\n",
      "Row Number: 464, Zip code: 98106 has average return of 57\n",
      "Row Number: 472, Zip code: 98107 has average return of 92\n",
      "Row Number: 480, Zip code: 98108 has average return of 54\n",
      "Row Number: 488, Zip code: 98109 has average return of 128\n",
      "Row Number: 504, Zip code: 98112 has average return of 249\n",
      "Row Number: 512, Zip code: 98115 has average return of 120\n",
      "Row Number: 520, Zip code: 98116 has average return of 114\n",
      "Row Number: 528, Zip code: 98117 has average return of 112\n",
      "Row Number: 536, Zip code: 98118 has average return of 64\n",
      "Row Number: 544, Zip code: 98119 has average return of 132\n",
      "Row Number: 552, Zip code: 98121 has average return of 163\n",
      "Row Number: 560, Zip code: 98122 has average return of 90\n",
      "Row Number: 568, Zip code: 98125 has average return of 72\n",
      "Row Number: 576, Zip code: 98126 has average return of 83\n",
      "Row Number: 584, Zip code: 98133 has average return of 62\n",
      "Row Number: 592, Zip code: 98134 has average return of 181\n",
      "Row Number: 600, Zip code: 98136 has average return of 121\n",
      "Row Number: 608, Zip code: 98144 has average return of 90\n",
      "Row Number: 616, Zip code: 98146 has average return of 64\n",
      "Row Number: 640, Zip code: 98164 has average return of 207\n",
      "Row Number: 664, Zip code: 98177 has average return of 147\n",
      "Row Number: 672, Zip code: 98178 has average return of 56\n",
      "Row Number: 696, Zip code: 98199 has average return of 161\n"
     ]
    }
   ],
   "source": [
    "irs_tax_2015 = irs_tax_2015.rename(columns={'ZIP\\rcode [1]': 'zip_code'})\n",
    "seattle_zips = [98101, 98102, 98103, 98104, 98105, 98106, 98107, 98108, 98109, 98112, 98115, \n",
    "         98116, 98117, 98118, 98119, 98121, 98122, 98125, 98126, 98133, 98134, 98136, \n",
    "         98144, 98146, 98154, 98164, 98174, 98177, 98178, 98195, 98199]\n",
    "\n",
    "string_seattle_zips = map(str, seattle_zips)\n",
    "\n",
    "# list(irs_tax_2015[\"zip_code\"])\n",
    "seattle_income = irs_tax_2015[irs_tax_2015[\"zip_code\"].isin(string_seattle_zips)]\n",
    "row_iterator = seattle_income.iterrows()\n",
    "for i, row in row_iterator:\n",
    "    if i % 8 == 0:\n",
    "        total_income = int(row[\"total_income_amount\"].replace(',', ''))\n",
    "        returns = int(row[\"total_income_ returns\"].replace(',', ''))\n",
    "\n",
    "        average_income_per_return = total_income / returns\n",
    "        print(\"Row Number: \" + str(i) + \", Zip code: \" +  str(row[\"zip_code\"]) + \" has average return of \" + str(average_income_per_return))"
   ]
  },
  {
   "cell_type": "code",
   "execution_count": 47,
   "metadata": {},
   "outputs": [
    {
     "data": {
      "text/plain": [
       "0"
      ]
     },
     "execution_count": 47,
     "metadata": {},
     "output_type": "execute_result"
    }
   ],
   "source": [
    "424 % 8"
   ]
  },
  {
   "cell_type": "code",
   "execution_count": 52,
   "metadata": {},
   "outputs": [
    {
     "name": "stdout",
     "output_type": "stream",
     "text": [
      "Row Number: 424, Zip code: 98101 has average return of 162\n",
      "Row Number: 432, Zip code: 98102 has average return of 104\n",
      "Row Number: 440, Zip code: 98103 has average return of 93\n",
      "Row Number: 448, Zip code: 98104 has average return of 98\n",
      "Row Number: 456, Zip code: 98105 has average return of 120\n",
      "Row Number: 464, Zip code: 98106 has average return of 54\n",
      "Row Number: 472, Zip code: 98107 has average return of 88\n",
      "Row Number: 480, Zip code: 98108 has average return of 55\n",
      "Row Number: 488, Zip code: 98109 has average return of 123\n",
      "Row Number: 504, Zip code: 98112 has average return of 238\n",
      "Row Number: 512, Zip code: 98115 has average return of 111\n",
      "Row Number: 520, Zip code: 98116 has average return of 110\n",
      "Row Number: 528, Zip code: 98117 has average return of 103\n",
      "Row Number: 536, Zip code: 98118 has average return of 62\n",
      "Row Number: 544, Zip code: 98119 has average return of 124\n",
      "Row Number: 552, Zip code: 98121 has average return of 137\n",
      "Row Number: 560, Zip code: 98122 has average return of 91\n",
      "Row Number: 568, Zip code: 98125 has average return of 69\n",
      "Row Number: 576, Zip code: 98126 has average return of 77\n",
      "Row Number: 584, Zip code: 98133 has average return of 58\n",
      "Row Number: 592, Zip code: 98134 has average return of 164\n",
      "Row Number: 600, Zip code: 98136 has average return of 122\n",
      "Row Number: 608, Zip code: 98144 has average return of 86\n",
      "Row Number: 616, Zip code: 98146 has average return of 62\n",
      "Row Number: 640, Zip code: 98164 has average return of 187\n",
      "Row Number: 664, Zip code: 98177 has average return of 139\n",
      "Row Number: 672, Zip code: 98178 has average return of 54\n",
      "Row Number: 696, Zip code: 98199 has average return of 148\n"
     ]
    }
   ],
   "source": [
    "irs_tax_2014 = pd.read_csv(\"./datasets/tax_bracket_time_series/cleaned_irs_tax_files/irs_tax_washington_2014_cleaned.csv\")\n",
    "irs_tax_2014 = irs_tax_2014.rename(columns={'ZIP\\rcode [1]': 'zip_code'})\n",
    "seattle_zips = [98101, 98102, 98103, 98104, 98105, 98106, 98107, 98108, 98109, 98112, 98115, \n",
    "         98116, 98117, 98118, 98119, 98121, 98122, 98125, 98126, 98133, 98134, 98136, \n",
    "         98144, 98146, 98154, 98164, 98174, 98177, 98178, 98195, 98199]\n",
    "\n",
    "string_seattle_zips = map(str, seattle_zips)\n",
    "\n",
    "# list(irs_tax_2015[\"zip_code\"])\n",
    "seattle_income = irs_tax_2014[irs_tax_2014[\"zip_code\"].isin(string_seattle_zips)]\n",
    "row_iterator = seattle_income.iterrows()\n",
    "for i, row in row_iterator:\n",
    "    if i % 8 == 0:\n",
    "        total_income = int(row[\"total_income_amount\"].replace(',', ''))\n",
    "        returns = int(row[\"total_income_returns\"].replace(',', ''))\n",
    "\n",
    "        average_income_per_return = total_income / returns\n",
    "        print(\"Row Number: \" + str(i) + \", Zip code: \" +  str(row[\"zip_code\"]) + \" has average return of \" + str(average_income_per_return))"
   ]
  },
  {
   "cell_type": "code",
   "execution_count": 55,
   "metadata": {},
   "outputs": [
    {
     "name": "stdout",
     "output_type": "stream",
     "text": [
      "Row Number: 424, Zip code: 98101 has average return of 138\n",
      "Row Number: 432, Zip code: 98102 has average return of 96\n",
      "Row Number: 440, Zip code: 98103 has average return of 86\n",
      "Row Number: 448, Zip code: 98104 has average return of 99\n",
      "Row Number: 456, Zip code: 98105 has average return of 110\n",
      "Row Number: 464, Zip code: 98106 has average return of 50\n",
      "Row Number: 472, Zip code: 98107 has average return of 78\n",
      "Row Number: 480, Zip code: 98108 has average return of 50\n",
      "Row Number: 488, Zip code: 98109 has average return of 110\n",
      "Row Number: 504, Zip code: 98112 has average return of 205\n",
      "Row Number: 512, Zip code: 98115 has average return of 102\n",
      "Row Number: 520, Zip code: 98116 has average return of 100\n",
      "Row Number: 528, Zip code: 98117 has average return of 95\n",
      "Row Number: 536, Zip code: 98118 has average return of 57\n",
      "Row Number: 544, Zip code: 98119 has average return of 113\n",
      "Row Number: 552, Zip code: 98121 has average return of 129\n",
      "Row Number: 560, Zip code: 98122 has average return of 78\n",
      "Row Number: 568, Zip code: 98125 has average return of 65\n",
      "Row Number: 576, Zip code: 98126 has average return of 71\n",
      "Row Number: 584, Zip code: 98133 has average return of 55\n",
      "Row Number: 592, Zip code: 98134 has average return of 128\n",
      "Row Number: 600, Zip code: 98136 has average return of 107\n",
      "Row Number: 608, Zip code: 98144 has average return of 78\n",
      "Row Number: 616, Zip code: 98146 has average return of 58\n",
      "Row Number: 640, Zip code: 98164 has average return of 205\n",
      "Row Number: 664, Zip code: 98177 has average return of 122\n",
      "Row Number: 672, Zip code: 98178 has average return of 51\n",
      "Row Number: 696, Zip code: 98199 has average return of 133\n"
     ]
    }
   ],
   "source": [
    "irs_tax_2013 = pd.read_csv(\"./datasets/tax_bracket_time_series/cleaned_irs_tax_files/irs_tax_washington_2013_cleaned.csv\")\n",
    "irs_tax_2013 = irs_tax_2013.rename(columns={'ZIP\\rcode [1]': 'zip_code'})\n",
    "seattle_zips = [98101, 98102, 98103, 98104, 98105, 98106, 98107, 98108, 98109, 98112, 98115, \n",
    "         98116, 98117, 98118, 98119, 98121, 98122, 98125, 98126, 98133, 98134, 98136, \n",
    "         98144, 98146, 98154, 98164, 98174, 98177, 98178, 98195, 98199]\n",
    "\n",
    "string_seattle_zips = map(str, seattle_zips)\n",
    "\n",
    "# list(irs_tax_2015[\"zip_code\"])\n",
    "seattle_income = irs_tax_2013[irs_tax_2013[\"zip_code\"].isin(string_seattle_zips)]\n",
    "row_iterator = seattle_income.iterrows()\n",
    "for i, row in row_iterator:\n",
    "    if i % 8 == 0:\n",
    "        total_income = int(row[\"total_income_amount\"].replace(',', ''))\n",
    "        returns = int(row[\"total_income_returns\"].replace(',', ''))\n",
    "\n",
    "        average_income_per_return = total_income / returns\n",
    "        print(\"Row Number: \" + str(i) + \", Zip code: \" +  str(row[\"zip_code\"]) + \" has average return of \" + str(average_income_per_return))"
   ]
  },
  {
   "cell_type": "code",
   "execution_count": null,
   "metadata": {
    "collapsed": true
   },
   "outputs": [],
   "source": []
  }
 ],
 "metadata": {
  "kernelspec": {
   "display_name": "Python 2",
   "language": "python",
   "name": "python2"
  },
  "language_info": {
   "codemirror_mode": {
    "name": "ipython",
    "version": 2
   },
   "file_extension": ".py",
   "mimetype": "text/x-python",
   "name": "python",
   "nbconvert_exporter": "python",
   "pygments_lexer": "ipython2",
   "version": "2.7.13"
  }
 },
 "nbformat": 4,
 "nbformat_minor": 2
}
