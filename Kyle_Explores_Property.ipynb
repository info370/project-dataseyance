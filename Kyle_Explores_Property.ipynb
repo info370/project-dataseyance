{
 "cells": [
  {
   "cell_type": "code",
   "execution_count": 1,
   "metadata": {
    "collapsed": true
   },
   "outputs": [],
   "source": [
    "# Imports\n",
    "import pandas as pd\n",
    "import numpy as np\n",
    "import matplotlib as mpl\n",
    "from matplotlib import pyplot as plt"
   ]
  },
  {
   "cell_type": "code",
   "execution_count": 2,
   "metadata": {},
   "outputs": [
    {
     "name": "stdout",
     "output_type": "stream",
     "text": [
      "['ZIP\\rcode [1]', 'Size of adjusted gross income', 'Number of returns', 'Number of single returns', 'Number of joint returns', 'Number of head of household returns', \"Number with paid preparer's signature\", 'Number of exemptions', 'Number of dependents', 'Number of volunteer prepared returns [2]', 'Unnamed: 10', 'Unnamed: 11', 'Unnamed: 12', 'Number of refund anticipation loan returns', 'Number of refund anticipation check returns', 'Number of elderly returns [3]', 'Adjusted gross income (AGI) [4]', 'Total income', 'Unnamed: 18', 'Salaries and wages in AGI', 'Unnamed: 20', 'Taxable interest', 'Unnamed: 22', 'Ordinary dividends', 'Unnamed: 24', 'Qualified dividends [5]', 'Unnamed: 26', 'State and local income tax refunds\\r', 'Unnamed: 28', 'Business or profession\\rnet income (less loss)', 'Unnamed: 30', 'Net capital gain (less loss) in AGI', 'Unnamed: 32', 'Taxable individual retirement\\rarrangement distributions', 'Unnamed: 34', 'Pensions and annuities in AGI', 'Unnamed: 36', 'Number of \\rfarm returns', 'Unemployment compensation [6]', 'Unnamed: 39', 'Taxable Social Security benefits', 'Unnamed: 41', 'Partnership/S-corp net income (less loss)', 'Unnamed: 43', 'Total statuory adjustments', 'Unnamed: 45', 'Educator expenses', 'Unnamed: 47', 'Self-employment retirement plans', 'Unnamed: 49', 'Self-employment health insurance deduction', 'Unnamed: 51', 'IRA payments', 'Unnamed: 53', 'Student loan interest deduction', 'Unnamed: 55', 'Tuition and fees deduction', 'Unnamed: 57', 'Domestic production activities deduction', 'Unnamed: 59', 'Total itemized deductions', 'Unnamed: 61', 'Unnamed: 62', 'State and local income taxes', 'Unnamed: 64', 'State and local general sales taxes', 'Unnamed: 66', 'Real estate taxes', 'Unnamed: 68', 'Taxes paid', 'Unnamed: 70', 'Mortgage interest paid', 'Unnamed: 72', 'Contributions', 'Unnamed: 74', 'Taxable income', 'Unnamed: 76', 'Income tax before credits', 'Unnamed: 78', 'Alternative minimum tax', 'Unnamed: 80', 'Excess advance premium tax credit repayment', 'Unnamed: 82', 'Total tax credits', 'Unnamed: 84', 'Foreign tax credit', 'Unnamed: 86', 'Child and dependent care credit', 'Unnamed: 88', 'Nonrefundable education credit', 'Unnamed: 90', 'Retirement savings contribution credit', 'Unnamed: 92', 'Child tax credit', 'Unnamed: 94', 'Residential energy tax credit', 'Unnamed: 96', 'Self-employment tax', 'Unnamed: 98', 'Total premium tax credit', 'Unnamed: 100', 'Advance premium tax credit', 'Unnamed: 102', 'Health care individual responsibility payment', 'Unnamed: 104', 'Total tax payments', 'Unnamed: 106', 'Earned income credit [7]', 'Unnamed: 108', 'Excess earned income credit \\r(refundable) [8]', 'Unnamed: 110', 'Additional child tax credit', 'Unnamed: 112', 'Refundable education credit', 'Unnamed: 114', 'Net premium tax credit', 'Unnamed: 116', 'Income tax [9]', 'Unnamed: 118', 'Total tax liability [10]', 'Unnamed: 120', 'Additional Medicare tax', 'Unnamed: 122', 'Net investment income tax', 'Unnamed: 124', 'Tax due at time of filing [11]', 'Unnamed: 126', 'Overpayments refunded [12]', 'Unnamed: 128']\n"
     ]
    }
   ],
   "source": [
    "# Read in data \n",
    "income_brackets2015 = pd.read_csv(\"./datasets/income_bracket_wa copy_cleaned.csv\")\n",
    "print(list(income_brackets2015))\n",
    "# income_brackets2015"
   ]
  },
  {
   "cell_type": "code",
   "execution_count": 84,
   "metadata": {},
   "outputs": [
    {
     "ename": "IOError",
     "evalue": "File ./datasets/income_bracket_wa copy_cleaned.csv does not exist",
     "output_type": "error",
     "traceback": [
      "\u001b[0;31m---------------------------------------------------------------------------\u001b[0m",
      "\u001b[0;31mIOError\u001b[0m                                   Traceback (most recent call last)",
      "\u001b[0;32m<ipython-input-84-fe9426bc5545>\u001b[0m in \u001b[0;36m<module>\u001b[0;34m()\u001b[0m\n\u001b[1;32m      1\u001b[0m \u001b[0;31m# Kyle does some crazy shit.\u001b[0m\u001b[0;34m\u001b[0m\u001b[0;34m\u001b[0m\u001b[0m\n\u001b[0;32m----> 2\u001b[0;31m \u001b[0mincome_brackets2015\u001b[0m \u001b[0;34m=\u001b[0m \u001b[0mpd\u001b[0m\u001b[0;34m.\u001b[0m\u001b[0mread_csv\u001b[0m\u001b[0;34m(\u001b[0m\u001b[0;34m\"./datasets/income_bracket_wa copy_cleaned.csv\"\u001b[0m\u001b[0;34m)\u001b[0m\u001b[0;34m\u001b[0m\u001b[0m\n\u001b[0m\u001b[1;32m      3\u001b[0m income_brackets2015 = income_brackets2015.rename(columns={'ZIP\\rcode [1]': 'zip_code', \n\u001b[1;32m      4\u001b[0m                                                           \u001b[0;34m'Total income'\u001b[0m\u001b[0;34m:\u001b[0m \u001b[0;34m'returns'\u001b[0m\u001b[0;34m,\u001b[0m\u001b[0;34m\u001b[0m\u001b[0m\n\u001b[1;32m      5\u001b[0m                                                           'Unnamed: 18': 'total_income'})\n",
      "\u001b[0;32m/anaconda/lib/python2.7/site-packages/pandas/io/parsers.pyc\u001b[0m in \u001b[0;36mparser_f\u001b[0;34m(filepath_or_buffer, sep, delimiter, header, names, index_col, usecols, squeeze, prefix, mangle_dupe_cols, dtype, engine, converters, true_values, false_values, skipinitialspace, skiprows, nrows, na_values, keep_default_na, na_filter, verbose, skip_blank_lines, parse_dates, infer_datetime_format, keep_date_col, date_parser, dayfirst, iterator, chunksize, compression, thousands, decimal, lineterminator, quotechar, quoting, escapechar, comment, encoding, dialect, tupleize_cols, error_bad_lines, warn_bad_lines, skipfooter, skip_footer, doublequote, delim_whitespace, as_recarray, compact_ints, use_unsigned, low_memory, buffer_lines, memory_map, float_precision)\u001b[0m\n\u001b[1;32m    653\u001b[0m                     skip_blank_lines=skip_blank_lines)\n\u001b[1;32m    654\u001b[0m \u001b[0;34m\u001b[0m\u001b[0m\n\u001b[0;32m--> 655\u001b[0;31m         \u001b[0;32mreturn\u001b[0m \u001b[0m_read\u001b[0m\u001b[0;34m(\u001b[0m\u001b[0mfilepath_or_buffer\u001b[0m\u001b[0;34m,\u001b[0m \u001b[0mkwds\u001b[0m\u001b[0;34m)\u001b[0m\u001b[0;34m\u001b[0m\u001b[0m\n\u001b[0m\u001b[1;32m    656\u001b[0m \u001b[0;34m\u001b[0m\u001b[0m\n\u001b[1;32m    657\u001b[0m     \u001b[0mparser_f\u001b[0m\u001b[0;34m.\u001b[0m\u001b[0m__name__\u001b[0m \u001b[0;34m=\u001b[0m \u001b[0mname\u001b[0m\u001b[0;34m\u001b[0m\u001b[0m\n",
      "\u001b[0;32m/anaconda/lib/python2.7/site-packages/pandas/io/parsers.pyc\u001b[0m in \u001b[0;36m_read\u001b[0;34m(filepath_or_buffer, kwds)\u001b[0m\n\u001b[1;32m    403\u001b[0m \u001b[0;34m\u001b[0m\u001b[0m\n\u001b[1;32m    404\u001b[0m     \u001b[0;31m# Create the parser.\u001b[0m\u001b[0;34m\u001b[0m\u001b[0;34m\u001b[0m\u001b[0m\n\u001b[0;32m--> 405\u001b[0;31m     \u001b[0mparser\u001b[0m \u001b[0;34m=\u001b[0m \u001b[0mTextFileReader\u001b[0m\u001b[0;34m(\u001b[0m\u001b[0mfilepath_or_buffer\u001b[0m\u001b[0;34m,\u001b[0m \u001b[0;34m**\u001b[0m\u001b[0mkwds\u001b[0m\u001b[0;34m)\u001b[0m\u001b[0;34m\u001b[0m\u001b[0m\n\u001b[0m\u001b[1;32m    406\u001b[0m \u001b[0;34m\u001b[0m\u001b[0m\n\u001b[1;32m    407\u001b[0m     \u001b[0;32mif\u001b[0m \u001b[0mchunksize\u001b[0m \u001b[0;32mor\u001b[0m \u001b[0miterator\u001b[0m\u001b[0;34m:\u001b[0m\u001b[0;34m\u001b[0m\u001b[0m\n",
      "\u001b[0;32m/anaconda/lib/python2.7/site-packages/pandas/io/parsers.pyc\u001b[0m in \u001b[0;36m__init__\u001b[0;34m(self, f, engine, **kwds)\u001b[0m\n\u001b[1;32m    760\u001b[0m             \u001b[0mself\u001b[0m\u001b[0;34m.\u001b[0m\u001b[0moptions\u001b[0m\u001b[0;34m[\u001b[0m\u001b[0;34m'has_index_names'\u001b[0m\u001b[0;34m]\u001b[0m \u001b[0;34m=\u001b[0m \u001b[0mkwds\u001b[0m\u001b[0;34m[\u001b[0m\u001b[0;34m'has_index_names'\u001b[0m\u001b[0;34m]\u001b[0m\u001b[0;34m\u001b[0m\u001b[0m\n\u001b[1;32m    761\u001b[0m \u001b[0;34m\u001b[0m\u001b[0m\n\u001b[0;32m--> 762\u001b[0;31m         \u001b[0mself\u001b[0m\u001b[0;34m.\u001b[0m\u001b[0m_make_engine\u001b[0m\u001b[0;34m(\u001b[0m\u001b[0mself\u001b[0m\u001b[0;34m.\u001b[0m\u001b[0mengine\u001b[0m\u001b[0;34m)\u001b[0m\u001b[0;34m\u001b[0m\u001b[0m\n\u001b[0m\u001b[1;32m    763\u001b[0m \u001b[0;34m\u001b[0m\u001b[0m\n\u001b[1;32m    764\u001b[0m     \u001b[0;32mdef\u001b[0m \u001b[0mclose\u001b[0m\u001b[0;34m(\u001b[0m\u001b[0mself\u001b[0m\u001b[0;34m)\u001b[0m\u001b[0;34m:\u001b[0m\u001b[0;34m\u001b[0m\u001b[0m\n",
      "\u001b[0;32m/anaconda/lib/python2.7/site-packages/pandas/io/parsers.pyc\u001b[0m in \u001b[0;36m_make_engine\u001b[0;34m(self, engine)\u001b[0m\n\u001b[1;32m    964\u001b[0m     \u001b[0;32mdef\u001b[0m \u001b[0m_make_engine\u001b[0m\u001b[0;34m(\u001b[0m\u001b[0mself\u001b[0m\u001b[0;34m,\u001b[0m \u001b[0mengine\u001b[0m\u001b[0;34m=\u001b[0m\u001b[0;34m'c'\u001b[0m\u001b[0;34m)\u001b[0m\u001b[0;34m:\u001b[0m\u001b[0;34m\u001b[0m\u001b[0m\n\u001b[1;32m    965\u001b[0m         \u001b[0;32mif\u001b[0m \u001b[0mengine\u001b[0m \u001b[0;34m==\u001b[0m \u001b[0;34m'c'\u001b[0m\u001b[0;34m:\u001b[0m\u001b[0;34m\u001b[0m\u001b[0m\n\u001b[0;32m--> 966\u001b[0;31m             \u001b[0mself\u001b[0m\u001b[0;34m.\u001b[0m\u001b[0m_engine\u001b[0m \u001b[0;34m=\u001b[0m \u001b[0mCParserWrapper\u001b[0m\u001b[0;34m(\u001b[0m\u001b[0mself\u001b[0m\u001b[0;34m.\u001b[0m\u001b[0mf\u001b[0m\u001b[0;34m,\u001b[0m \u001b[0;34m**\u001b[0m\u001b[0mself\u001b[0m\u001b[0;34m.\u001b[0m\u001b[0moptions\u001b[0m\u001b[0;34m)\u001b[0m\u001b[0;34m\u001b[0m\u001b[0m\n\u001b[0m\u001b[1;32m    967\u001b[0m         \u001b[0;32melse\u001b[0m\u001b[0;34m:\u001b[0m\u001b[0;34m\u001b[0m\u001b[0m\n\u001b[1;32m    968\u001b[0m             \u001b[0;32mif\u001b[0m \u001b[0mengine\u001b[0m \u001b[0;34m==\u001b[0m \u001b[0;34m'python'\u001b[0m\u001b[0;34m:\u001b[0m\u001b[0;34m\u001b[0m\u001b[0m\n",
      "\u001b[0;32m/anaconda/lib/python2.7/site-packages/pandas/io/parsers.pyc\u001b[0m in \u001b[0;36m__init__\u001b[0;34m(self, src, **kwds)\u001b[0m\n\u001b[1;32m   1580\u001b[0m         \u001b[0mkwds\u001b[0m\u001b[0;34m[\u001b[0m\u001b[0;34m'allow_leading_cols'\u001b[0m\u001b[0;34m]\u001b[0m \u001b[0;34m=\u001b[0m \u001b[0mself\u001b[0m\u001b[0;34m.\u001b[0m\u001b[0mindex_col\u001b[0m \u001b[0;32mis\u001b[0m \u001b[0;32mnot\u001b[0m \u001b[0mFalse\u001b[0m\u001b[0;34m\u001b[0m\u001b[0m\n\u001b[1;32m   1581\u001b[0m \u001b[0;34m\u001b[0m\u001b[0m\n\u001b[0;32m-> 1582\u001b[0;31m         \u001b[0mself\u001b[0m\u001b[0;34m.\u001b[0m\u001b[0m_reader\u001b[0m \u001b[0;34m=\u001b[0m \u001b[0mparsers\u001b[0m\u001b[0;34m.\u001b[0m\u001b[0mTextReader\u001b[0m\u001b[0;34m(\u001b[0m\u001b[0msrc\u001b[0m\u001b[0;34m,\u001b[0m \u001b[0;34m**\u001b[0m\u001b[0mkwds\u001b[0m\u001b[0;34m)\u001b[0m\u001b[0;34m\u001b[0m\u001b[0m\n\u001b[0m\u001b[1;32m   1583\u001b[0m \u001b[0;34m\u001b[0m\u001b[0m\n\u001b[1;32m   1584\u001b[0m         \u001b[0;31m# XXX\u001b[0m\u001b[0;34m\u001b[0m\u001b[0;34m\u001b[0m\u001b[0m\n",
      "\u001b[0;32mpandas/_libs/parsers.pyx\u001b[0m in \u001b[0;36mpandas._libs.parsers.TextReader.__cinit__ (pandas/_libs/parsers.c:4209)\u001b[0;34m()\u001b[0m\n",
      "\u001b[0;32mpandas/_libs/parsers.pyx\u001b[0m in \u001b[0;36mpandas._libs.parsers.TextReader._setup_parser_source (pandas/_libs/parsers.c:8873)\u001b[0;34m()\u001b[0m\n",
      "\u001b[0;31mIOError\u001b[0m: File ./datasets/income_bracket_wa copy_cleaned.csv does not exist"
     ]
    }
   ],
   "source": [
    "# Kyle does some crazy shit.\n",
    "income_brackets2015 = pd.read_csv(\"./datasets/income_bracket_wa copy_cleaned.csv\")\n",
    "income_brackets2015 = income_brackets2015.rename(columns={'ZIP\\rcode [1]': 'zip_code', \n",
    "                                                          'Total income': 'returns', \n",
    "                                                          'Unnamed: 18': 'total_income'})\n",
    "seattle_zips = [98101, 98102, 98103, 98104, 98105, 98106, 98107, 98108, 98109, 98112, 98115, \n",
    "         98116, 98117, 98118, 98119, 98121, 98122, 98125, 98126, 98133, 98134, 98136, \n",
    "         98144, 98146, 98154, 98164, 98174, 98177, 98178, 98195, 98199]\n",
    "seattle_income_brackets = income_brackets2015[income_brackets2015[\"zip_code\"].isin(seattle_zips)]\n",
    "row_iterator = seattle_income_brackets.iterrows()\n",
    "for i, row in row_iterator:\n",
    "    if (i % 8 == 1):\n",
    "        total_income = int(row[\"total_income\"].replace(',', ''))\n",
    "        returns = int(row[\"returns\"].replace(',', ''))\n",
    "        \n",
    "        average_income_per_return = total_income / returns\n",
    "        print(str(row[\"zip_code\"]) + \" has average return of \" + str(average_income_per_return))\n",
    "seattle_income_brackets\n",
    "\n",
    "print(\"kyle is sexy af and his data science skills are passable\")"
   ]
  },
  {
   "cell_type": "code",
   "execution_count": 151,
   "metadata": {},
   "outputs": [],
   "source": [
    "# crazy shit part2.\n",
    "irs_tax_2015 = pd.read_csv(\"./datasets/tax_bracket_time_series/cleaned_irs_tax_files/irs_tax_washington_2015_cleaned.csv\")\n"
   ]
  },
  {
   "cell_type": "code",
   "execution_count": 166,
   "metadata": {},
   "outputs": [
    {
     "name": "stdout",
     "output_type": "stream",
     "text": [
      "Row Number: 424, Zip code: 98101 has average return of 182.797228916\n",
      "Row Number: 432, Zip code: 98102 has average return of 118.631752701\n",
      "Row Number: 440, Zip code: 98103 has average return of 99.4100169779\n",
      "Row Number: 448, Zip code: 98104 has average return of 110.387573099\n",
      "Row Number: 456, Zip code: 98105 has average return of 154.41700237\n",
      "Row Number: 464, Zip code: 98106 has average return of 57.3247863248\n",
      "Row Number: 472, Zip code: 98107 has average return of 92.7397862979\n",
      "Row Number: 480, Zip code: 98108 has average return of 54.8313886606\n",
      "Row Number: 488, Zip code: 98109 has average return of 128.345738295\n",
      "Row Number: 504, Zip code: 98112 has average return of 249.725769854\n",
      "Row Number: 512, Zip code: 98115 has average return of 120.245904115\n",
      "Row Number: 520, Zip code: 98116 has average return of 114.459640636\n",
      "Row Number: 528, Zip code: 98117 has average return of 112.083054627\n",
      "Row Number: 536, Zip code: 98118 has average return of 64.8323642582\n",
      "Row Number: 544, Zip code: 98119 has average return of 132.568601986\n",
      "Row Number: 552, Zip code: 98121 has average return of 163.356920078\n",
      "Row Number: 560, Zip code: 98122 has average return of 90.7202519832\n",
      "Row Number: 568, Zip code: 98125 has average return of 72.0703913248\n",
      "Row Number: 576, Zip code: 98126 has average return of 83.0331255565\n",
      "Row Number: 584, Zip code: 98133 has average return of 62.9736673347\n",
      "Row Number: 592, Zip code: 98134 has average return of 181.182352941\n",
      "Row Number: 600, Zip code: 98136 has average return of 121.229296424\n",
      "Row Number: 608, Zip code: 98144 has average return of 90.5992361553\n",
      "Row Number: 616, Zip code: 98146 has average return of 64.5705403405\n",
      "Row Number: 640, Zip code: 98164 has average return of 207.145454545\n",
      "Row Number: 664, Zip code: 98177 has average return of 147.262692308\n",
      "Row Number: 672, Zip code: 98178 has average return of 56.0468085106\n",
      "Row Number: 696, Zip code: 98199 has average return of 161.377074041\n"
     ]
    }
   ],
   "source": [
    "irs_tax_2015 = irs_tax_2015.rename(columns={'ZIP\\rcode [1]': 'zip_code'})\n",
    "seattle_zips = [98101, 98102, 98103, 98104, 98105, 98106, 98107, 98108, 98109, 98112, 98115, \n",
    "         98116, 98117, 98118, 98119, 98121, 98122, 98125, 98126, 98133, 98134, 98136, \n",
    "         98144, 98146, 98154, 98164, 98174, 98177, 98178, 98195, 98199]\n",
    "\n",
    "string_seattle_zips = map(str, seattle_zips)\n",
    "\n",
    "# list(irs_tax_2015[\"zip_code\"])\n",
    "seattle_income = irs_tax_2015[irs_tax_2015[\"zip_code\"].isin(string_seattle_zips)]\n",
    "row_iterator = seattle_income.iterrows()\n",
    "avgs2015 = []\n",
    "for i, row in row_iterator:\n",
    "    if i % 8 == 0:\n",
    "        total_income = int(row[\"total_income_amount\"].replace(',', ''))\n",
    "        returns = int(row[\"total_income_ returns\"].replace(',', ''))\n",
    "\n",
    "        average_income_per_return = total_income * 1.0 / returns\n",
    "        \n",
    "        avgs2015.append(average_income_per_return)\n",
    "        print(\"Row Number: \" + str(i) + \", Zip code: \" +  str(row[\"zip_code\"]) + \" has average return of \" + str(average_income_per_return))\n"
   ]
  },
  {
   "cell_type": "code",
   "execution_count": 153,
   "metadata": {},
   "outputs": [
    {
     "name": "stdout",
     "output_type": "stream",
     "text": [
      "Row Number: 424, Zip code: 98101 has average return of 162.265605096\n",
      "Row Number: 432, Zip code: 98102 has average return of 104.645980512\n",
      "Row Number: 440, Zip code: 98103 has average return of 93.6093226257\n",
      "Row Number: 448, Zip code: 98104 has average return of 98.6386666667\n",
      "Row Number: 456, Zip code: 98105 has average return of 120.832195122\n",
      "Row Number: 464, Zip code: 98106 has average return of 54.180333069\n",
      "Row Number: 472, Zip code: 98107 has average return of 88.7243837442\n",
      "Row Number: 480, Zip code: 98108 has average return of 55.2398483572\n",
      "Row Number: 488, Zip code: 98109 has average return of 123.223566478\n",
      "Row Number: 504, Zip code: 98112 has average return of 238.950695012\n",
      "Row Number: 512, Zip code: 98115 has average return of 111.59159954\n",
      "Row Number: 520, Zip code: 98116 has average return of 110.75813783\n",
      "Row Number: 528, Zip code: 98117 has average return of 103.999262202\n",
      "Row Number: 536, Zip code: 98118 has average return of 62.5902643172\n",
      "Row Number: 544, Zip code: 98119 has average return of 124.469558482\n",
      "Row Number: 552, Zip code: 98121 has average return of 137.56627027\n",
      "Row Number: 560, Zip code: 98122 has average return of 91.2428994083\n",
      "Row Number: 568, Zip code: 98125 has average return of 69.8708718948\n",
      "Row Number: 576, Zip code: 98126 has average return of 77.6182815356\n",
      "Row Number: 584, Zip code: 98133 has average return of 58.8248972884\n",
      "Row Number: 592, Zip code: 98134 has average return of 164.972\n",
      "Row Number: 600, Zip code: 98136 has average return of 122.748817967\n",
      "Row Number: 608, Zip code: 98144 has average return of 86.5156901042\n",
      "Row Number: 616, Zip code: 98146 has average return of 62.4357359636\n",
      "Row Number: 640, Zip code: 98164 has average return of 187.625\n",
      "Row Number: 664, Zip code: 98177 has average return of 139.299707602\n",
      "Row Number: 672, Zip code: 98178 has average return of 54.6765322581\n",
      "Row Number: 696, Zip code: 98199 has average return of 148.115656109\n"
     ]
    }
   ],
   "source": [
    "irs_tax_2014 = pd.read_csv(\"./datasets/tax_bracket_time_series/cleaned_irs_tax_files/irs_tax_washington_2014_cleaned.csv\")\n",
    "irs_tax_2014 = irs_tax_2014.rename(columns={'ZIP\\rcode [1]': 'zip_code'})\n",
    "seattle_zips = [98101, 98102, 98103, 98104, 98105, 98106, 98107, 98108, 98109, 98112, 98115, \n",
    "         98116, 98117, 98118, 98119, 98121, 98122, 98125, 98126, 98133, 98134, 98136, \n",
    "         98144, 98146, 98154, 98164, 98174, 98177, 98178, 98195, 98199]\n",
    "\n",
    "string_seattle_zips = map(str, seattle_zips)\n",
    "\n",
    "# list(irs_tax_2015[\"zip_code\"])\n",
    "seattle_income = irs_tax_2014[irs_tax_2014[\"zip_code\"].isin(string_seattle_zips)]\n",
    "row_iterator = seattle_income.iterrows()\n",
    "avgs2014 = []\n",
    "for i, row in row_iterator:\n",
    "    if i % 8 == 0:\n",
    "        total_income = int(row[\"total_income_amount\"].replace(',', ''))\n",
    "        returns = int(row[\"total_income_returns\"].replace(',', ''))\n",
    "\n",
    "        average_income_per_return = total_income * 1.0 / returns\n",
    "        avgs2014.append(average_income_per_return)\n",
    "        print(\"Row Number: \" + str(i) + \", Zip code: \" +  str(row[\"zip_code\"]) + \" has average return of \" + str(average_income_per_return))"
   ]
  },
  {
   "cell_type": "code",
   "execution_count": 154,
   "metadata": {},
   "outputs": [
    {
     "name": "stdout",
     "output_type": "stream",
     "text": [
      "Row Number: 424, Zip code: 98101 has average return of 138.299493029\n",
      "Row Number: 432, Zip code: 98102 has average return of 96.2710327456\n",
      "Row Number: 440, Zip code: 98103 has average return of 86.9086678508\n",
      "Row Number: 448, Zip code: 98104 has average return of 99.9945288754\n",
      "Row Number: 456, Zip code: 98105 has average return of 110.580779221\n",
      "Row Number: 464, Zip code: 98106 has average return of 50.71864\n",
      "Row Number: 472, Zip code: 98107 has average return of 78.8752762431\n",
      "Row Number: 480, Zip code: 98108 has average return of 50.7077249576\n",
      "Row Number: 488, Zip code: 98109 has average return of 110.559019608\n",
      "Row Number: 504, Zip code: 98112 has average return of 205.637840066\n",
      "Row Number: 512, Zip code: 98115 has average return of 102.620930233\n",
      "Row Number: 520, Zip code: 98116 has average return of 100.201464129\n",
      "Row Number: 528, Zip code: 98117 has average return of 95.8076879271\n",
      "Row Number: 536, Zip code: 98118 has average return of 57.8351900973\n",
      "Row Number: 544, Zip code: 98119 has average return of 113.653172691\n",
      "Row Number: 552, Zip code: 98121 has average return of 129.682876712\n",
      "Row Number: 560, Zip code: 98122 has average return of 78.5491542799\n",
      "Row Number: 568, Zip code: 98125 has average return of 65.41865\n",
      "Row Number: 576, Zip code: 98126 has average return of 71.9969863014\n",
      "Row Number: 584, Zip code: 98133 has average return of 55.902324616\n",
      "Row Number: 592, Zip code: 98134 has average return of 128.962711864\n",
      "Row Number: 600, Zip code: 98136 has average return of 107.072576832\n",
      "Row Number: 608, Zip code: 98144 has average return of 78.010690571\n",
      "Row Number: 616, Zip code: 98146 has average return of 58.6393568147\n",
      "Row Number: 640, Zip code: 98164 has average return of 205.972727273\n",
      "Row Number: 664, Zip code: 98177 has average return of 122.82677702\n",
      "Row Number: 672, Zip code: 98178 has average return of 51.5281818182\n",
      "Row Number: 696, Zip code: 98199 has average return of 133.456572983\n"
     ]
    }
   ],
   "source": [
    "irs_tax_2013 = pd.read_csv(\"./datasets/tax_bracket_time_series/cleaned_irs_tax_files/irs_tax_washington_2013_cleaned.csv\")\n",
    "irs_tax_2013 = irs_tax_2013.rename(columns={'ZIP\\rcode [1]': 'zip_code'})\n",
    "seattle_zips = [98101, 98102, 98103, 98104, 98105, 98106, 98107, 98108, 98109, 98112, 98115, \n",
    "         98116, 98117, 98118, 98119, 98121, 98122, 98125, 98126, 98133, 98134, 98136, \n",
    "         98144, 98146, 98154, 98164, 98174, 98177, 98178, 98195, 98199]\n",
    "\n",
    "string_seattle_zips = map(str, seattle_zips)\n",
    "\n",
    "# list(irs_tax_2015[\"zip_code\"])\n",
    "seattle_income = irs_tax_2013[irs_tax_2013[\"zip_code\"].isin(string_seattle_zips)]\n",
    "row_iterator = seattle_income.iterrows()\n",
    "avgs2013 = []\n",
    "for i, row in row_iterator:\n",
    "    if i % 8 == 0:\n",
    "        total_income = int(row[\"total_income_amount\"].replace(',', ''))\n",
    "        returns = int(row[\"total_income_returns\"].replace(',', ''))\n",
    "\n",
    "        average_income_per_return = total_income * 1.0  / returns\n",
    "        avgs2013.append(average_income_per_return)\n",
    "        print(\"Row Number: \" + str(i) + \", Zip code: \" +  str(row[\"zip_code\"]) + \" has average return of \" + str(average_income_per_return))"
   ]
  },
  {
   "cell_type": "code",
   "execution_count": 155,
   "metadata": {},
   "outputs": [
    {
     "name": "stdout",
     "output_type": "stream",
     "text": [
      "Row Number: 424, Zip code: 98101 has average return of 123.570391872\n",
      "Row Number: 432, Zip code: 98102 has average return of 68.1592932862\n",
      "Row Number: 440, Zip code: 98103 has average return of 57.7662222222\n",
      "Row Number: 448, Zip code: 98104 has average return of 110.840847784\n",
      "Row Number: 456, Zip code: 98105 has average return of 80.1371059014\n",
      "Row Number: 464, Zip code: 98106 has average return of 34.6288065844\n",
      "Row Number: 472, Zip code: 98107 has average return of 51.474068323\n",
      "Row Number: 480, Zip code: 98108 has average return of 32.4832383124\n",
      "Row Number: 488, Zip code: 98109 has average return of 71.7505668934\n",
      "Row Number: 504, Zip code: 98112 has average return of 188.125\n",
      "Row Number: 512, Zip code: 98115 has average return of 67.627239819\n",
      "Row Number: 520, Zip code: 98116 has average return of 67.7039900249\n",
      "Row Number: 528, Zip code: 98117 has average return of 60.015625\n",
      "Row Number: 536, Zip code: 98118 has average return of 39.7432120162\n",
      "Row Number: 544, Zip code: 98119 has average return of 80.9114678899\n",
      "Row Number: 552, Zip code: 98121 has average return of 91.3768606225\n",
      "Row Number: 560, Zip code: 98122 has average return of 53.0744101633\n",
      "Row Number: 568, Zip code: 98125 has average return of 44.9990803188\n",
      "Row Number: 576, Zip code: 98126 has average return of 49.0335578002\n",
      "Row Number: 584, Zip code: 98133 has average return of 36.8058431574\n",
      "Row Number: 592, Zip code: 98134 has average return of 68.4782608696\n",
      "Row Number: 600, Zip code: 98136 has average return of 71.3184\n",
      "Row Number: 608, Zip code: 98144 has average return of 57.914486755\n",
      "Row Number: 616, Zip code: 98146 has average return of 39.0581926514\n",
      "Row Number: 640, Zip code: 98164 has average return of 103.28\n",
      "Row Number: 664, Zip code: 98177 has average return of 98.336332574\n",
      "Row Number: 672, Zip code: 98178 has average return of 34.6074946467\n",
      "Row Number: 696, Zip code: 98199 has average return of 92.4530443756\n"
     ]
    }
   ],
   "source": [
    "irs_tax_2012 = pd.read_csv(\"./datasets/tax_bracket_time_series/cleaned_irs_tax_files/irs_tax_washington_2012_cleaned.csv\")\n",
    "irs_tax_2012 = irs_tax_2012.rename(columns={'ZIP\\rcode [1]': 'zip_code'})\n",
    "seattle_zips = [98101, 98102, 98103, 98104, 98105, 98106, 98107, 98108, 98109, 98112, 98115, \n",
    "         98116, 98117, 98118, 98119, 98121, 98122, 98125, 98126, 98133, 98134, 98136, \n",
    "         98144, 98146, 98154, 98164, 98174, 98177, 98178, 98195, 98199]\n",
    "\n",
    "string_seattle_zips = map(str, seattle_zips)\n",
    "\n",
    "# list(irs_tax_2015[\"zip_code\"])\n",
    "seattle_income = irs_tax_2012[irs_tax_2012[\"zip_code\"].isin(string_seattle_zips)]\n",
    "row_iterator = seattle_income.iterrows()\n",
    "avgs2012 = []\n",
    "for i, row in row_iterator:\n",
    "    if i % 8 == 0:\n",
    "        total_income = int(row[\"taxable_income_amount\"].replace(',', '')) - int(row[\"total_tax_amount\"].replace(',', ''))\n",
    "        returns = int(row[\"taxable_income_returns\"].replace(',', '')) #- int(row[\"total_income_amount\"].replace(',', ''))\n",
    "\n",
    "        average_income_per_return = total_income * 1.0 / returns\n",
    "        avgs2012.append(average_income_per_return)\n",
    "        print(\"Row Number: \" + str(i) + \", Zip code: \" +  str(row[\"zip_code\"]) + \" has average return of \" + str(average_income_per_return))"
   ]
  },
  {
   "cell_type": "code",
   "execution_count": 156,
   "metadata": {},
   "outputs": [
    {
     "name": "stdout",
     "output_type": "stream",
     "text": [
      "Row Number: 424, Zip code: 98101 has average return of 102.260257562\n",
      "Row Number: 432, Zip code: 98102 has average return of 57.3729558389\n",
      "Row Number: 440, Zip code: 98103 has average return of 51.1435787917\n",
      "Row Number: 448, Zip code: 98104 has average return of 102.134805945\n",
      "Row Number: 456, Zip code: 98105 has average return of 72.3419809432\n",
      "Row Number: 464, Zip code: 98106 has average return of 32.2341193966\n",
      "Row Number: 472, Zip code: 98107 has average return of 46.8380852944\n",
      "Row Number: 480, Zip code: 98108 has average return of 30.1164863901\n",
      "Row Number: 488, Zip code: 98109 has average return of 82.9815594945\n",
      "Row Number: 504, Zip code: 98112 has average return of 116.258706946\n",
      "Row Number: 512, Zip code: 98115 has average return of 62.6108775137\n",
      "Row Number: 520, Zip code: 98116 has average return of 60.320574567\n",
      "Row Number: 528, Zip code: 98117 has average return of 56.4320748413\n",
      "Row Number: 536, Zip code: 98118 has average return of 36.3341233632\n",
      "Row Number: 544, Zip code: 98119 has average return of 67.9118309859\n",
      "Row Number: 552, Zip code: 98121 has average return of 83.6023688663\n",
      "Row Number: 560, Zip code: 98122 has average return of 49.456543271\n",
      "Row Number: 568, Zip code: 98125 has average return of 40.7545335577\n",
      "Row Number: 576, Zip code: 98126 has average return of 45.540704322\n",
      "Row Number: 584, Zip code: 98133 has average return of 35.0524450005\n",
      "Row Number: 592, Zip code: 98134 has average return of 63.6333333333\n",
      "Row Number: 600, Zip code: 98136 has average return of 61.9034812287\n",
      "Row Number: 608, Zip code: 98144 has average return of 49.0653555989\n",
      "Row Number: 616, Zip code: 98146 has average return of 36.6712673786\n",
      "Row Number: 640, Zip code: 98164 has average return of 82.981981982\n",
      "Row Number: 664, Zip code: 98177 has average return of 81.7303225806\n",
      "Row Number: 672, Zip code: 98178 has average return of 33.1412924425\n",
      "Row Number: 696, Zip code: 98199 has average return of 100.448352111\n"
     ]
    }
   ],
   "source": [
    "irs_tax_2011 = pd.read_csv(\"./datasets/tax_bracket_time_series/cleaned_irs_tax_files/irs_tax_washington_2011_cleaned.csv\")\n",
    "irs_tax_2011 = irs_tax_2011.rename(columns={'ZIP\\rcode [1]': 'zip_code'})\n",
    "seattle_zips = [98101, 98102, 98103, 98104, 98105, 98106, 98107, 98108, 98109, 98112, 98115, \n",
    "         98116, 98117, 98118, 98119, 98121, 98122, 98125, 98126, 98133, 98134, 98136, \n",
    "         98144, 98146, 98154, 98164, 98174, 98177, 98178, 98195, 98199]\n",
    "\n",
    "string_seattle_zips = map(str, seattle_zips)\n",
    "\n",
    "# list(irs_tax_2015[\"zip_code\"])\n",
    "seattle_income = irs_tax_2011[irs_tax_2011[\"zip_code\"].isin(string_seattle_zips)]\n",
    "row_iterator = seattle_income.iterrows()\n",
    "avgs2011 = []\n",
    "for i, row in row_iterator:\n",
    "    if i % 8 == 0:\n",
    "        total_income = int(row[\"taxable_income_amount\"].replace(',', '')) - int(row[\"total_tax_amount\"].replace(',', ''))\n",
    "        returns = int(row[\"taxable_income_returns\"].replace(',', '')) #- int(row[\"total_income_amount\"].replace(',', ''))\n",
    "\n",
    "        average_income_per_return = total_income * 1.0 / returns\n",
    "        avgs2011.append(average_income_per_return)\n",
    "        print(\"Row Number: \" + str(i) + \", Zip code: \" +  str(row[\"zip_code\"]) + \" has average return of \" + str(average_income_per_return))"
   ]
  },
  {
   "cell_type": "code",
   "execution_count": 157,
   "metadata": {},
   "outputs": [
    {
     "name": "stdout",
     "output_type": "stream",
     "text": [
      "Row Number: 424, Zip code: 98101 has average return of 81.9835147247\n",
      "Row Number: 432, Zip code: 98102 has average return of 54.862226479\n",
      "Row Number: 440, Zip code: 98103 has average return of 49.8693668961\n",
      "Row Number: 448, Zip code: 98104 has average return of 54.87395879\n",
      "Row Number: 456, Zip code: 98105 has average return of 76.4316270716\n",
      "Row Number: 464, Zip code: 98106 has average return of 30.5679517553\n",
      "Row Number: 472, Zip code: 98107 has average return of 44.3935483871\n",
      "Row Number: 480, Zip code: 98108 has average return of 28.9843156476\n",
      "Row Number: 488, Zip code: 98109 has average return of 70.3520277525\n",
      "Row Number: 504, Zip code: 98112 has average return of 106.573235817\n",
      "Row Number: 512, Zip code: 98115 has average return of 59.5168879571\n",
      "Row Number: 520, Zip code: 98116 has average return of 55.7803523388\n",
      "Row Number: 528, Zip code: 98117 has average return of 52.6898395722\n",
      "Row Number: 536, Zip code: 98118 has average return of 35.1100490048\n",
      "Row Number: 544, Zip code: 98119 has average return of 66.2663048745\n",
      "Row Number: 552, Zip code: 98121 has average return of 88.9745749962\n",
      "Row Number: 560, Zip code: 98122 has average return of 46.3191489362\n",
      "Row Number: 568, Zip code: 98125 has average return of 38.9881712948\n",
      "Row Number: 576, Zip code: 98126 has average return of 42.415144818\n",
      "Row Number: 584, Zip code: 98133 has average return of 33.9761627291\n",
      "Row Number: 592, Zip code: 98134 has average return of 72.9370629371\n",
      "Row Number: 600, Zip code: 98136 has average return of 59.8199530192\n",
      "Row Number: 608, Zip code: 98144 has average return of 50.5909646977\n",
      "Row Number: 616, Zip code: 98146 has average return of 35.6092095796\n",
      "Row Number: 640, Zip code: 98164 has average return of 74.7981651376\n",
      "Row Number: 664, Zip code: 98177 has average return of 78.2247679474\n",
      "Row Number: 672, Zip code: 98178 has average return of 32.15625\n",
      "Row Number: 696, Zip code: 98199 has average return of 78.8211694409\n"
     ]
    }
   ],
   "source": [
    "irs_tax_2010 = pd.read_csv(\"./datasets/tax_bracket_time_series/cleaned_irs_tax_files/irs_tax_washington_2010_cleaned.csv\")\n",
    "irs_tax_2010 = irs_tax_2010.rename(columns={'ZIP\\rcode [1]': 'zip_code'})\n",
    "seattle_zips = [98101, 98102, 98103, 98104, 98105, 98106, 98107, 98108, 98109, 98112, 98115, \n",
    "         98116, 98117, 98118, 98119, 98121, 98122, 98125, 98126, 98133, 98134, 98136, \n",
    "         98144, 98146, 98154, 98164, 98174, 98177, 98178, 98195, 98199]\n",
    "\n",
    "string_seattle_zips = map(str, seattle_zips)\n",
    "\n",
    "# list(irs_tax_2015[\"zip_code\"])\n",
    "seattle_income = irs_tax_2010[irs_tax_2010[\"zip_code\"].isin(string_seattle_zips)]\n",
    "row_iterator = seattle_income.iterrows()\n",
    "avgs2010 = []\n",
    "zips_seen = []\n",
    "for i, row in row_iterator:\n",
    "    if i % 8 == 0:\n",
    "        total_income = int(row[\"taxable_income_amount\"].replace(',', '')) - int(row[\"total_tax_amount\"].replace(',', ''))\n",
    "        returns = int(row[\"taxable_income_returns\"].replace(',', '')) #- int(row[\"total_income_amount\"].replace(',', ''))\n",
    "\n",
    "        average_income_per_return = total_income * 1.0 / returns\n",
    "        avgs2010.append(average_income_per_return)\n",
    "        zips_seen.append(str(row[\"zip_code\"]))\n",
    "        print(\"Row Number: \" + str(i) + \", Zip code: \" +  str(row[\"zip_code\"]) + \" has average return of \" + str(average_income_per_return))"
   ]
  },
  {
   "cell_type": "code",
   "execution_count": 165,
   "metadata": {},
   "outputs": [
    {
     "name": "stdout",
     "output_type": "stream",
     "text": [
      "98101\n",
      "98102\n",
      "98103\n",
      "98104\n",
      "98105\n",
      "98106\n",
      "98107\n",
      "98108\n",
      "98109\n",
      "98112\n",
      "98115\n",
      "98116\n",
      "98117\n",
      "98118\n",
      "98119\n",
      "98121\n",
      "98122\n",
      "98125\n",
      "98126\n",
      "98133\n",
      "98134\n",
      "98136\n",
      "98144\n",
      "98146\n",
      "98164\n",
      "98177\n",
      "98178\n",
      "98199\n",
      "The following zips are not in the data set\n",
      "set([98154, 98195, 98174])\n"
     ]
    }
   ],
   "source": [
    "# CHECKING TO SEE WHICH ZIPS THAT ETHAN CALCULATED AS BEING IN SEATTLE\n",
    "# DID NOT ACTUALLY SHOW UP IN THE IRS DATA\n",
    "zips_occur = []\n",
    "for i in zips_seen:\n",
    "    i = int(i)\n",
    "    if i in seattle_zips:\n",
    "        print(i)\n",
    "        zips_occur.append(i)\n",
    "        \n",
    "print(\"The following zips are not in the data set\")\n",
    "print(set(seattle_zips) - set(zips_occur))\n",
    "\n",
    "# d = {'2015' : pd.Series(avgs2015, index=zips_occur),\n",
    "#     '2014': pd.Series(avgs2014, index=zips_occur),\n",
    "#     '2013': pd.Series(avgs2013, index=zips_occur),\n",
    "#     '2012': pd.Series(avgs2012, index=zips_occur),\n",
    "#     '2011': pd.Series(avgs2011, index=zips_occur),\n",
    "#     '2010': pd.Series(avgs2010, index=zips_occur)} # NOT EXISTANT ZIPS 98195, 98174,\n",
    "# income_by_zipcode_frame = pd.DataFrame(d)\n",
    "# income_by_zipcode_frame"
   ]
  },
  {
   "cell_type": "code",
   "execution_count": 160,
   "metadata": {},
   "outputs": [],
   "source": [
    "income_by_zipcode_frame.to_csv(\"income_time_series.csv\", encoding='utf-8')"
   ]
  },
  {
   "cell_type": "code",
   "execution_count": null,
   "metadata": {
    "collapsed": true
   },
   "outputs": [],
   "source": []
  }
 ],
 "metadata": {
  "kernelspec": {
   "display_name": "Python 2",
   "language": "python",
   "name": "python2"
  },
  "language_info": {
   "codemirror_mode": {
    "name": "ipython",
    "version": 2
   },
   "file_extension": ".py",
   "mimetype": "text/x-python",
   "name": "python",
   "nbconvert_exporter": "python",
   "pygments_lexer": "ipython2",
   "version": "2.7.13"
  }
 },
 "nbformat": 4,
 "nbformat_minor": 2
}
